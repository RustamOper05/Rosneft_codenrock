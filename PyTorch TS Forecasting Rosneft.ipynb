{
 "cells": [
  {
   "cell_type": "code",
   "execution_count": 98,
   "id": "efb60fb9",
   "metadata": {},
   "outputs": [
    {
     "data": {
      "text/plain": [
       "device(type='cuda', index=0)"
      ]
     },
     "execution_count": 98,
     "metadata": {},
     "output_type": "execute_result"
    }
   ],
   "source": [
    "import torch\n",
    "import torch.nn as nn\n",
    "import numpy as np\n",
    "import pandas as pd\n",
    "import pickle\n",
    "import torch.utils.data as data_utils\n",
    "import torch.nn as nn\n",
    "import torchsummary\n",
    "\n",
    "\n",
    "class NN_dragon(nn.Module):\n",
    "    def __init__(self, in_features, out_features, dropouts, activates):\n",
    "        super(NN_dragon, self).__init__()\n",
    "#         self.float()\n",
    "\n",
    "        layers = []\n",
    "        for i, out_feat in enumerate(out_features):\n",
    "            layers.append(nn.Linear(in_features, out_feat))\n",
    "            layers.append(nn.BatchNorm1d(out_feat, affine=False))\n",
    "            activate_name = activates[i]\n",
    "            activate = getattr(nn, activate_name)()\n",
    "            layers.append(activate)\n",
    "            # layers.append(nn.Dropout(dropouts[i]))\n",
    "            in_features = out_feat\n",
    "        layers.append(nn.Linear(in_features, 1))\n",
    "        self.features = nn.Sequential(*layers)\n",
    "\n",
    "    def forward(self, x_input):\n",
    "        output = self.features(x_input)\n",
    "\n",
    "        return output\n",
    "\n",
    "def get_model(in_features, nn_params, model_type='NN'):\n",
    "\n",
    "    if model_type == 'NN':\n",
    "        n_layers = nn_params['n_layers']\n",
    "        out_features = [nn_params[f'n_units_l{n}'] for n in range(n_layers)]\n",
    "        dropouts = [] #[nn_params[f'dropout_l{n}'] for n in range(n_layers)]\n",
    "        activates = [nn_params[f'activate_l{n}'] for n in range(n_layers)]\n",
    "\n",
    "        model = NN_dragon(in_features, out_features, dropouts, activates)\n",
    "\n",
    "\n",
    "    return model\n",
    "\n",
    "def lag_features(df, lags):\n",
    "    for lag in lags:\n",
    "        df[f\"lag_t-{lag}\"] = df.groupby([\"WELL_NAME\", \"CHARWORK\"])[\"LIQ_RATE\"].transform(\n",
    "            lambda x: x.shift(lag))\n",
    "    return df\n",
    "\n",
    "device = torch.device('cuda:0') if torch.cuda.is_available else torch.device('cpu')  \n",
    "device"
   ]
  },
  {
   "cell_type": "code",
   "execution_count": 99,
   "id": "f42b8619",
   "metadata": {},
   "outputs": [],
   "source": [
    "import pandas as pd\n",
    "import numpy as np\n",
    "import matplotlib.pyplot as plt\n",
    "import seaborn as sns\n",
    "import matplotlib as mlp\n",
    "mlp.rcParams['figure.figsize'] = (15, 7)\n",
    "\n",
    "train_data = pd.read_csv('rosneft/train228.csv')\n",
    "gtm = pd.read_csv('rosneft/gtm.csv')\n",
    "coords = pd.read_csv('rosneft/coords.csv')\n",
    "sampl_sab = pd.read_csv('rosneft/sample_submission.csv')\n",
    "\n",
    "train_data[\"MEASURED_IN_DATE\"] = pd.to_datetime(train_data[\"MEASURED_IN_DATE\"])"
   ]
  },
  {
   "cell_type": "code",
   "execution_count": 100,
   "id": "035b0986",
   "metadata": {},
   "outputs": [
    {
     "name": "stderr",
     "output_type": "stream",
     "text": [
      "C:\\Users\\sahab\\AppData\\Local\\Temp\\ipykernel_21676\\1887250350.py:48: PerformanceWarning: DataFrame is highly fragmented.  This is usually the result of calling `frame.insert` many times, which has poor performance.  Consider joining all columns at once using pd.concat(axis=1) instead. To get a de-fragmented frame, use `newframe = frame.copy()`\n",
      "  df[f\"lag_t-{lag}\"] = df.groupby([\"WELL_NAME\", \"CHARWORK\"])[\"LIQ_RATE\"].transform(\n",
      "C:\\Users\\sahab\\AppData\\Local\\Temp\\ipykernel_21676\\1887250350.py:48: PerformanceWarning: DataFrame is highly fragmented.  This is usually the result of calling `frame.insert` many times, which has poor performance.  Consider joining all columns at once using pd.concat(axis=1) instead. To get a de-fragmented frame, use `newframe = frame.copy()`\n",
      "  df[f\"lag_t-{lag}\"] = df.groupby([\"WELL_NAME\", \"CHARWORK\"])[\"LIQ_RATE\"].transform(\n",
      "C:\\Users\\sahab\\AppData\\Local\\Temp\\ipykernel_21676\\1887250350.py:48: PerformanceWarning: DataFrame is highly fragmented.  This is usually the result of calling `frame.insert` many times, which has poor performance.  Consider joining all columns at once using pd.concat(axis=1) instead. To get a de-fragmented frame, use `newframe = frame.copy()`\n",
      "  df[f\"lag_t-{lag}\"] = df.groupby([\"WELL_NAME\", \"CHARWORK\"])[\"LIQ_RATE\"].transform(\n",
      "C:\\Users\\sahab\\AppData\\Local\\Temp\\ipykernel_21676\\1887250350.py:48: PerformanceWarning: DataFrame is highly fragmented.  This is usually the result of calling `frame.insert` many times, which has poor performance.  Consider joining all columns at once using pd.concat(axis=1) instead. To get a de-fragmented frame, use `newframe = frame.copy()`\n",
      "  df[f\"lag_t-{lag}\"] = df.groupby([\"WELL_NAME\", \"CHARWORK\"])[\"LIQ_RATE\"].transform(\n",
      "C:\\Users\\sahab\\AppData\\Local\\Temp\\ipykernel_21676\\1887250350.py:48: PerformanceWarning: DataFrame is highly fragmented.  This is usually the result of calling `frame.insert` many times, which has poor performance.  Consider joining all columns at once using pd.concat(axis=1) instead. To get a de-fragmented frame, use `newframe = frame.copy()`\n",
      "  df[f\"lag_t-{lag}\"] = df.groupby([\"WELL_NAME\", \"CHARWORK\"])[\"LIQ_RATE\"].transform(\n",
      "C:\\Users\\sahab\\AppData\\Local\\Temp\\ipykernel_21676\\1887250350.py:48: PerformanceWarning: DataFrame is highly fragmented.  This is usually the result of calling `frame.insert` many times, which has poor performance.  Consider joining all columns at once using pd.concat(axis=1) instead. To get a de-fragmented frame, use `newframe = frame.copy()`\n",
      "  df[f\"lag_t-{lag}\"] = df.groupby([\"WELL_NAME\", \"CHARWORK\"])[\"LIQ_RATE\"].transform(\n",
      "C:\\Users\\sahab\\AppData\\Local\\Temp\\ipykernel_21676\\1887250350.py:48: PerformanceWarning: DataFrame is highly fragmented.  This is usually the result of calling `frame.insert` many times, which has poor performance.  Consider joining all columns at once using pd.concat(axis=1) instead. To get a de-fragmented frame, use `newframe = frame.copy()`\n",
      "  df[f\"lag_t-{lag}\"] = df.groupby([\"WELL_NAME\", \"CHARWORK\"])[\"LIQ_RATE\"].transform(\n",
      "C:\\Users\\sahab\\AppData\\Local\\Temp\\ipykernel_21676\\1887250350.py:48: PerformanceWarning: DataFrame is highly fragmented.  This is usually the result of calling `frame.insert` many times, which has poor performance.  Consider joining all columns at once using pd.concat(axis=1) instead. To get a de-fragmented frame, use `newframe = frame.copy()`\n",
      "  df[f\"lag_t-{lag}\"] = df.groupby([\"WELL_NAME\", \"CHARWORK\"])[\"LIQ_RATE\"].transform(\n",
      "C:\\Users\\sahab\\AppData\\Local\\Temp\\ipykernel_21676\\1887250350.py:48: PerformanceWarning: DataFrame is highly fragmented.  This is usually the result of calling `frame.insert` many times, which has poor performance.  Consider joining all columns at once using pd.concat(axis=1) instead. To get a de-fragmented frame, use `newframe = frame.copy()`\n",
      "  df[f\"lag_t-{lag}\"] = df.groupby([\"WELL_NAME\", \"CHARWORK\"])[\"LIQ_RATE\"].transform(\n",
      "C:\\Users\\sahab\\AppData\\Local\\Temp\\ipykernel_21676\\1887250350.py:48: PerformanceWarning: DataFrame is highly fragmented.  This is usually the result of calling `frame.insert` many times, which has poor performance.  Consider joining all columns at once using pd.concat(axis=1) instead. To get a de-fragmented frame, use `newframe = frame.copy()`\n",
      "  df[f\"lag_t-{lag}\"] = df.groupby([\"WELL_NAME\", \"CHARWORK\"])[\"LIQ_RATE\"].transform(\n",
      "C:\\Users\\sahab\\AppData\\Local\\Temp\\ipykernel_21676\\1887250350.py:48: PerformanceWarning: DataFrame is highly fragmented.  This is usually the result of calling `frame.insert` many times, which has poor performance.  Consider joining all columns at once using pd.concat(axis=1) instead. To get a de-fragmented frame, use `newframe = frame.copy()`\n",
      "  df[f\"lag_t-{lag}\"] = df.groupby([\"WELL_NAME\", \"CHARWORK\"])[\"LIQ_RATE\"].transform(\n",
      "C:\\Users\\sahab\\AppData\\Local\\Temp\\ipykernel_21676\\1887250350.py:48: PerformanceWarning: DataFrame is highly fragmented.  This is usually the result of calling `frame.insert` many times, which has poor performance.  Consider joining all columns at once using pd.concat(axis=1) instead. To get a de-fragmented frame, use `newframe = frame.copy()`\n",
      "  df[f\"lag_t-{lag}\"] = df.groupby([\"WELL_NAME\", \"CHARWORK\"])[\"LIQ_RATE\"].transform(\n",
      "C:\\Users\\sahab\\AppData\\Local\\Temp\\ipykernel_21676\\1887250350.py:48: PerformanceWarning: DataFrame is highly fragmented.  This is usually the result of calling `frame.insert` many times, which has poor performance.  Consider joining all columns at once using pd.concat(axis=1) instead. To get a de-fragmented frame, use `newframe = frame.copy()`\n",
      "  df[f\"lag_t-{lag}\"] = df.groupby([\"WELL_NAME\", \"CHARWORK\"])[\"LIQ_RATE\"].transform(\n",
      "C:\\Users\\sahab\\AppData\\Local\\Temp\\ipykernel_21676\\1887250350.py:48: PerformanceWarning: DataFrame is highly fragmented.  This is usually the result of calling `frame.insert` many times, which has poor performance.  Consider joining all columns at once using pd.concat(axis=1) instead. To get a de-fragmented frame, use `newframe = frame.copy()`\n",
      "  df[f\"lag_t-{lag}\"] = df.groupby([\"WELL_NAME\", \"CHARWORK\"])[\"LIQ_RATE\"].transform(\n",
      "C:\\Users\\sahab\\AppData\\Local\\Temp\\ipykernel_21676\\1887250350.py:48: PerformanceWarning: DataFrame is highly fragmented.  This is usually the result of calling `frame.insert` many times, which has poor performance.  Consider joining all columns at once using pd.concat(axis=1) instead. To get a de-fragmented frame, use `newframe = frame.copy()`\n",
      "  df[f\"lag_t-{lag}\"] = df.groupby([\"WELL_NAME\", \"CHARWORK\"])[\"LIQ_RATE\"].transform(\n",
      "C:\\Users\\sahab\\AppData\\Local\\Temp\\ipykernel_21676\\1887250350.py:48: PerformanceWarning: DataFrame is highly fragmented.  This is usually the result of calling `frame.insert` many times, which has poor performance.  Consider joining all columns at once using pd.concat(axis=1) instead. To get a de-fragmented frame, use `newframe = frame.copy()`\n",
      "  df[f\"lag_t-{lag}\"] = df.groupby([\"WELL_NAME\", \"CHARWORK\"])[\"LIQ_RATE\"].transform(\n",
      "C:\\Users\\sahab\\AppData\\Local\\Temp\\ipykernel_21676\\1887250350.py:48: PerformanceWarning: DataFrame is highly fragmented.  This is usually the result of calling `frame.insert` many times, which has poor performance.  Consider joining all columns at once using pd.concat(axis=1) instead. To get a de-fragmented frame, use `newframe = frame.copy()`\n",
      "  df[f\"lag_t-{lag}\"] = df.groupby([\"WELL_NAME\", \"CHARWORK\"])[\"LIQ_RATE\"].transform(\n",
      "C:\\Users\\sahab\\AppData\\Local\\Temp\\ipykernel_21676\\1887250350.py:48: PerformanceWarning: DataFrame is highly fragmented.  This is usually the result of calling `frame.insert` many times, which has poor performance.  Consider joining all columns at once using pd.concat(axis=1) instead. To get a de-fragmented frame, use `newframe = frame.copy()`\n",
      "  df[f\"lag_t-{lag}\"] = df.groupby([\"WELL_NAME\", \"CHARWORK\"])[\"LIQ_RATE\"].transform(\n",
      "C:\\Users\\sahab\\AppData\\Local\\Temp\\ipykernel_21676\\1887250350.py:48: PerformanceWarning: DataFrame is highly fragmented.  This is usually the result of calling `frame.insert` many times, which has poor performance.  Consider joining all columns at once using pd.concat(axis=1) instead. To get a de-fragmented frame, use `newframe = frame.copy()`\n",
      "  df[f\"lag_t-{lag}\"] = df.groupby([\"WELL_NAME\", \"CHARWORK\"])[\"LIQ_RATE\"].transform(\n",
      "C:\\Users\\sahab\\AppData\\Local\\Temp\\ipykernel_21676\\1887250350.py:48: PerformanceWarning: DataFrame is highly fragmented.  This is usually the result of calling `frame.insert` many times, which has poor performance.  Consider joining all columns at once using pd.concat(axis=1) instead. To get a de-fragmented frame, use `newframe = frame.copy()`\n",
      "  df[f\"lag_t-{lag}\"] = df.groupby([\"WELL_NAME\", \"CHARWORK\"])[\"LIQ_RATE\"].transform(\n",
      "C:\\Users\\sahab\\AppData\\Local\\Temp\\ipykernel_21676\\1887250350.py:48: PerformanceWarning: DataFrame is highly fragmented.  This is usually the result of calling `frame.insert` many times, which has poor performance.  Consider joining all columns at once using pd.concat(axis=1) instead. To get a de-fragmented frame, use `newframe = frame.copy()`\n",
      "  df[f\"lag_t-{lag}\"] = df.groupby([\"WELL_NAME\", \"CHARWORK\"])[\"LIQ_RATE\"].transform(\n",
      "C:\\Users\\sahab\\AppData\\Local\\Temp\\ipykernel_21676\\1887250350.py:48: PerformanceWarning: DataFrame is highly fragmented.  This is usually the result of calling `frame.insert` many times, which has poor performance.  Consider joining all columns at once using pd.concat(axis=1) instead. To get a de-fragmented frame, use `newframe = frame.copy()`\n",
      "  df[f\"lag_t-{lag}\"] = df.groupby([\"WELL_NAME\", \"CHARWORK\"])[\"LIQ_RATE\"].transform(\n",
      "C:\\Users\\sahab\\AppData\\Local\\Temp\\ipykernel_21676\\1887250350.py:48: PerformanceWarning: DataFrame is highly fragmented.  This is usually the result of calling `frame.insert` many times, which has poor performance.  Consider joining all columns at once using pd.concat(axis=1) instead. To get a de-fragmented frame, use `newframe = frame.copy()`\n",
      "  df[f\"lag_t-{lag}\"] = df.groupby([\"WELL_NAME\", \"CHARWORK\"])[\"LIQ_RATE\"].transform(\n",
      "C:\\Users\\sahab\\AppData\\Local\\Temp\\ipykernel_21676\\1887250350.py:48: PerformanceWarning: DataFrame is highly fragmented.  This is usually the result of calling `frame.insert` many times, which has poor performance.  Consider joining all columns at once using pd.concat(axis=1) instead. To get a de-fragmented frame, use `newframe = frame.copy()`\n",
      "  df[f\"lag_t-{lag}\"] = df.groupby([\"WELL_NAME\", \"CHARWORK\"])[\"LIQ_RATE\"].transform(\n"
     ]
    },
    {
     "data": {
      "text/html": [
       "<div>\n",
       "<style scoped>\n",
       "    .dataframe tbody tr th:only-of-type {\n",
       "        vertical-align: middle;\n",
       "    }\n",
       "\n",
       "    .dataframe tbody tr th {\n",
       "        vertical-align: top;\n",
       "    }\n",
       "\n",
       "    .dataframe thead th {\n",
       "        text-align: right;\n",
       "    }\n",
       "</style>\n",
       "<table border=\"1\" class=\"dataframe\">\n",
       "  <thead>\n",
       "    <tr style=\"text-align: right;\">\n",
       "      <th></th>\n",
       "      <th>MEASURED_IN_DATE</th>\n",
       "      <th>WELL_NAME</th>\n",
       "      <th>CHARWORK</th>\n",
       "      <th>LIQ_RATE</th>\n",
       "      <th>WATER_CUT</th>\n",
       "      <th>P_ZAB</th>\n",
       "      <th>INTAKE</th>\n",
       "      <th>lag_t-1</th>\n",
       "      <th>lag_t-2</th>\n",
       "      <th>lag_t-3</th>\n",
       "      <th>...</th>\n",
       "      <th>lag_t-111</th>\n",
       "      <th>lag_t-112</th>\n",
       "      <th>lag_t-113</th>\n",
       "      <th>lag_t-114</th>\n",
       "      <th>lag_t-115</th>\n",
       "      <th>lag_t-116</th>\n",
       "      <th>lag_t-117</th>\n",
       "      <th>lag_t-118</th>\n",
       "      <th>lag_t-119</th>\n",
       "      <th>lag_t-120</th>\n",
       "    </tr>\n",
       "  </thead>\n",
       "  <tbody>\n",
       "    <tr>\n",
       "      <th>120</th>\n",
       "      <td>2017-06-01</td>\n",
       "      <td>9e4912342a7d40c2a7bcd2f62852ad91ea0923333d0f55...</td>\n",
       "      <td>1</td>\n",
       "      <td>0.0</td>\n",
       "      <td>0.0</td>\n",
       "      <td>80.846916</td>\n",
       "      <td>225.0</td>\n",
       "      <td>0.0</td>\n",
       "      <td>0.0</td>\n",
       "      <td>0.0</td>\n",
       "      <td>...</td>\n",
       "      <td>0.0</td>\n",
       "      <td>0.0</td>\n",
       "      <td>0.0</td>\n",
       "      <td>0.0</td>\n",
       "      <td>0.0</td>\n",
       "      <td>0.0</td>\n",
       "      <td>0.0</td>\n",
       "      <td>0.0</td>\n",
       "      <td>0.0</td>\n",
       "      <td>0.0</td>\n",
       "    </tr>\n",
       "    <tr>\n",
       "      <th>121</th>\n",
       "      <td>2017-06-02</td>\n",
       "      <td>9e4912342a7d40c2a7bcd2f62852ad91ea0923333d0f55...</td>\n",
       "      <td>1</td>\n",
       "      <td>0.0</td>\n",
       "      <td>0.0</td>\n",
       "      <td>80.846916</td>\n",
       "      <td>225.0</td>\n",
       "      <td>0.0</td>\n",
       "      <td>0.0</td>\n",
       "      <td>0.0</td>\n",
       "      <td>...</td>\n",
       "      <td>0.0</td>\n",
       "      <td>0.0</td>\n",
       "      <td>0.0</td>\n",
       "      <td>0.0</td>\n",
       "      <td>0.0</td>\n",
       "      <td>0.0</td>\n",
       "      <td>0.0</td>\n",
       "      <td>0.0</td>\n",
       "      <td>0.0</td>\n",
       "      <td>0.0</td>\n",
       "    </tr>\n",
       "    <tr>\n",
       "      <th>122</th>\n",
       "      <td>2017-06-03</td>\n",
       "      <td>9e4912342a7d40c2a7bcd2f62852ad91ea0923333d0f55...</td>\n",
       "      <td>1</td>\n",
       "      <td>0.0</td>\n",
       "      <td>0.0</td>\n",
       "      <td>80.846916</td>\n",
       "      <td>225.0</td>\n",
       "      <td>0.0</td>\n",
       "      <td>0.0</td>\n",
       "      <td>0.0</td>\n",
       "      <td>...</td>\n",
       "      <td>0.0</td>\n",
       "      <td>0.0</td>\n",
       "      <td>0.0</td>\n",
       "      <td>0.0</td>\n",
       "      <td>0.0</td>\n",
       "      <td>0.0</td>\n",
       "      <td>0.0</td>\n",
       "      <td>0.0</td>\n",
       "      <td>0.0</td>\n",
       "      <td>0.0</td>\n",
       "    </tr>\n",
       "    <tr>\n",
       "      <th>123</th>\n",
       "      <td>2017-06-04</td>\n",
       "      <td>9e4912342a7d40c2a7bcd2f62852ad91ea0923333d0f55...</td>\n",
       "      <td>1</td>\n",
       "      <td>0.0</td>\n",
       "      <td>0.0</td>\n",
       "      <td>80.846916</td>\n",
       "      <td>225.0</td>\n",
       "      <td>0.0</td>\n",
       "      <td>0.0</td>\n",
       "      <td>0.0</td>\n",
       "      <td>...</td>\n",
       "      <td>0.0</td>\n",
       "      <td>0.0</td>\n",
       "      <td>0.0</td>\n",
       "      <td>0.0</td>\n",
       "      <td>0.0</td>\n",
       "      <td>0.0</td>\n",
       "      <td>0.0</td>\n",
       "      <td>0.0</td>\n",
       "      <td>0.0</td>\n",
       "      <td>0.0</td>\n",
       "    </tr>\n",
       "    <tr>\n",
       "      <th>124</th>\n",
       "      <td>2017-06-05</td>\n",
       "      <td>9e4912342a7d40c2a7bcd2f62852ad91ea0923333d0f55...</td>\n",
       "      <td>1</td>\n",
       "      <td>0.0</td>\n",
       "      <td>0.0</td>\n",
       "      <td>80.846916</td>\n",
       "      <td>225.0</td>\n",
       "      <td>0.0</td>\n",
       "      <td>0.0</td>\n",
       "      <td>0.0</td>\n",
       "      <td>...</td>\n",
       "      <td>0.0</td>\n",
       "      <td>0.0</td>\n",
       "      <td>0.0</td>\n",
       "      <td>0.0</td>\n",
       "      <td>0.0</td>\n",
       "      <td>0.0</td>\n",
       "      <td>0.0</td>\n",
       "      <td>0.0</td>\n",
       "      <td>0.0</td>\n",
       "      <td>0.0</td>\n",
       "    </tr>\n",
       "    <tr>\n",
       "      <th>...</th>\n",
       "      <td>...</td>\n",
       "      <td>...</td>\n",
       "      <td>...</td>\n",
       "      <td>...</td>\n",
       "      <td>...</td>\n",
       "      <td>...</td>\n",
       "      <td>...</td>\n",
       "      <td>...</td>\n",
       "      <td>...</td>\n",
       "      <td>...</td>\n",
       "      <td>...</td>\n",
       "      <td>...</td>\n",
       "      <td>...</td>\n",
       "      <td>...</td>\n",
       "      <td>...</td>\n",
       "      <td>...</td>\n",
       "      <td>...</td>\n",
       "      <td>...</td>\n",
       "      <td>...</td>\n",
       "      <td>...</td>\n",
       "      <td>...</td>\n",
       "    </tr>\n",
       "    <tr>\n",
       "      <th>177570</th>\n",
       "      <td>2022-05-27</td>\n",
       "      <td>1de41569155b66df7355c8fc7a53e80333aea79dc9bb37...</td>\n",
       "      <td>0</td>\n",
       "      <td>328.0</td>\n",
       "      <td>70.0</td>\n",
       "      <td>60.730000</td>\n",
       "      <td>0.0</td>\n",
       "      <td>328.0</td>\n",
       "      <td>328.0</td>\n",
       "      <td>328.0</td>\n",
       "      <td>...</td>\n",
       "      <td>391.0</td>\n",
       "      <td>403.0</td>\n",
       "      <td>388.0</td>\n",
       "      <td>392.0</td>\n",
       "      <td>394.0</td>\n",
       "      <td>396.0</td>\n",
       "      <td>396.0</td>\n",
       "      <td>398.0</td>\n",
       "      <td>402.0</td>\n",
       "      <td>406.0</td>\n",
       "    </tr>\n",
       "    <tr>\n",
       "      <th>177571</th>\n",
       "      <td>2022-05-28</td>\n",
       "      <td>1de41569155b66df7355c8fc7a53e80333aea79dc9bb37...</td>\n",
       "      <td>0</td>\n",
       "      <td>328.0</td>\n",
       "      <td>70.0</td>\n",
       "      <td>60.730000</td>\n",
       "      <td>0.0</td>\n",
       "      <td>328.0</td>\n",
       "      <td>328.0</td>\n",
       "      <td>328.0</td>\n",
       "      <td>...</td>\n",
       "      <td>392.0</td>\n",
       "      <td>391.0</td>\n",
       "      <td>403.0</td>\n",
       "      <td>388.0</td>\n",
       "      <td>392.0</td>\n",
       "      <td>394.0</td>\n",
       "      <td>396.0</td>\n",
       "      <td>396.0</td>\n",
       "      <td>398.0</td>\n",
       "      <td>402.0</td>\n",
       "    </tr>\n",
       "    <tr>\n",
       "      <th>177572</th>\n",
       "      <td>2022-05-29</td>\n",
       "      <td>1de41569155b66df7355c8fc7a53e80333aea79dc9bb37...</td>\n",
       "      <td>0</td>\n",
       "      <td>328.0</td>\n",
       "      <td>70.0</td>\n",
       "      <td>60.730000</td>\n",
       "      <td>0.0</td>\n",
       "      <td>328.0</td>\n",
       "      <td>328.0</td>\n",
       "      <td>328.0</td>\n",
       "      <td>...</td>\n",
       "      <td>394.0</td>\n",
       "      <td>392.0</td>\n",
       "      <td>391.0</td>\n",
       "      <td>403.0</td>\n",
       "      <td>388.0</td>\n",
       "      <td>392.0</td>\n",
       "      <td>394.0</td>\n",
       "      <td>396.0</td>\n",
       "      <td>396.0</td>\n",
       "      <td>398.0</td>\n",
       "    </tr>\n",
       "    <tr>\n",
       "      <th>177573</th>\n",
       "      <td>2022-05-30</td>\n",
       "      <td>1de41569155b66df7355c8fc7a53e80333aea79dc9bb37...</td>\n",
       "      <td>0</td>\n",
       "      <td>328.0</td>\n",
       "      <td>70.0</td>\n",
       "      <td>60.730000</td>\n",
       "      <td>0.0</td>\n",
       "      <td>328.0</td>\n",
       "      <td>328.0</td>\n",
       "      <td>328.0</td>\n",
       "      <td>...</td>\n",
       "      <td>387.0</td>\n",
       "      <td>394.0</td>\n",
       "      <td>392.0</td>\n",
       "      <td>391.0</td>\n",
       "      <td>403.0</td>\n",
       "      <td>388.0</td>\n",
       "      <td>392.0</td>\n",
       "      <td>394.0</td>\n",
       "      <td>396.0</td>\n",
       "      <td>396.0</td>\n",
       "    </tr>\n",
       "    <tr>\n",
       "      <th>177574</th>\n",
       "      <td>2022-05-31</td>\n",
       "      <td>1de41569155b66df7355c8fc7a53e80333aea79dc9bb37...</td>\n",
       "      <td>0</td>\n",
       "      <td>328.0</td>\n",
       "      <td>70.0</td>\n",
       "      <td>60.730000</td>\n",
       "      <td>0.0</td>\n",
       "      <td>328.0</td>\n",
       "      <td>328.0</td>\n",
       "      <td>328.0</td>\n",
       "      <td>...</td>\n",
       "      <td>384.0</td>\n",
       "      <td>387.0</td>\n",
       "      <td>394.0</td>\n",
       "      <td>392.0</td>\n",
       "      <td>391.0</td>\n",
       "      <td>403.0</td>\n",
       "      <td>388.0</td>\n",
       "      <td>392.0</td>\n",
       "      <td>394.0</td>\n",
       "      <td>396.0</td>\n",
       "    </tr>\n",
       "  </tbody>\n",
       "</table>\n",
       "<p>141509 rows × 127 columns</p>\n",
       "</div>"
      ],
      "text/plain": [
       "       MEASURED_IN_DATE                                          WELL_NAME  \\\n",
       "120          2017-06-01  9e4912342a7d40c2a7bcd2f62852ad91ea0923333d0f55...   \n",
       "121          2017-06-02  9e4912342a7d40c2a7bcd2f62852ad91ea0923333d0f55...   \n",
       "122          2017-06-03  9e4912342a7d40c2a7bcd2f62852ad91ea0923333d0f55...   \n",
       "123          2017-06-04  9e4912342a7d40c2a7bcd2f62852ad91ea0923333d0f55...   \n",
       "124          2017-06-05  9e4912342a7d40c2a7bcd2f62852ad91ea0923333d0f55...   \n",
       "...                 ...                                                ...   \n",
       "177570       2022-05-27  1de41569155b66df7355c8fc7a53e80333aea79dc9bb37...   \n",
       "177571       2022-05-28  1de41569155b66df7355c8fc7a53e80333aea79dc9bb37...   \n",
       "177572       2022-05-29  1de41569155b66df7355c8fc7a53e80333aea79dc9bb37...   \n",
       "177573       2022-05-30  1de41569155b66df7355c8fc7a53e80333aea79dc9bb37...   \n",
       "177574       2022-05-31  1de41569155b66df7355c8fc7a53e80333aea79dc9bb37...   \n",
       "\n",
       "        CHARWORK  LIQ_RATE  WATER_CUT      P_ZAB  INTAKE  lag_t-1  lag_t-2  \\\n",
       "120            1       0.0        0.0  80.846916   225.0      0.0      0.0   \n",
       "121            1       0.0        0.0  80.846916   225.0      0.0      0.0   \n",
       "122            1       0.0        0.0  80.846916   225.0      0.0      0.0   \n",
       "123            1       0.0        0.0  80.846916   225.0      0.0      0.0   \n",
       "124            1       0.0        0.0  80.846916   225.0      0.0      0.0   \n",
       "...          ...       ...        ...        ...     ...      ...      ...   \n",
       "177570         0     328.0       70.0  60.730000     0.0    328.0    328.0   \n",
       "177571         0     328.0       70.0  60.730000     0.0    328.0    328.0   \n",
       "177572         0     328.0       70.0  60.730000     0.0    328.0    328.0   \n",
       "177573         0     328.0       70.0  60.730000     0.0    328.0    328.0   \n",
       "177574         0     328.0       70.0  60.730000     0.0    328.0    328.0   \n",
       "\n",
       "        lag_t-3  ...  lag_t-111  lag_t-112  lag_t-113  lag_t-114  lag_t-115  \\\n",
       "120         0.0  ...        0.0        0.0        0.0        0.0        0.0   \n",
       "121         0.0  ...        0.0        0.0        0.0        0.0        0.0   \n",
       "122         0.0  ...        0.0        0.0        0.0        0.0        0.0   \n",
       "123         0.0  ...        0.0        0.0        0.0        0.0        0.0   \n",
       "124         0.0  ...        0.0        0.0        0.0        0.0        0.0   \n",
       "...         ...  ...        ...        ...        ...        ...        ...   \n",
       "177570    328.0  ...      391.0      403.0      388.0      392.0      394.0   \n",
       "177571    328.0  ...      392.0      391.0      403.0      388.0      392.0   \n",
       "177572    328.0  ...      394.0      392.0      391.0      403.0      388.0   \n",
       "177573    328.0  ...      387.0      394.0      392.0      391.0      403.0   \n",
       "177574    328.0  ...      384.0      387.0      394.0      392.0      391.0   \n",
       "\n",
       "        lag_t-116  lag_t-117  lag_t-118  lag_t-119  lag_t-120  \n",
       "120           0.0        0.0        0.0        0.0        0.0  \n",
       "121           0.0        0.0        0.0        0.0        0.0  \n",
       "122           0.0        0.0        0.0        0.0        0.0  \n",
       "123           0.0        0.0        0.0        0.0        0.0  \n",
       "124           0.0        0.0        0.0        0.0        0.0  \n",
       "...           ...        ...        ...        ...        ...  \n",
       "177570      396.0      396.0      398.0      402.0      406.0  \n",
       "177571      394.0      396.0      396.0      398.0      402.0  \n",
       "177572      392.0      394.0      396.0      396.0      398.0  \n",
       "177573      388.0      392.0      394.0      396.0      396.0  \n",
       "177574      403.0      388.0      392.0      394.0      396.0  \n",
       "\n",
       "[141509 rows x 127 columns]"
      ]
     },
     "execution_count": 100,
     "metadata": {},
     "output_type": "execute_result"
    }
   ],
   "source": [
    "train_with_lags = lag_features(train_data, lags=[*range(1, 121)])\n",
    "train_with_lags = train_with_lags.dropna()\n",
    "train_with_lags"
   ]
  },
  {
   "cell_type": "code",
   "execution_count": 102,
   "id": "d2ea15d6",
   "metadata": {},
   "outputs": [],
   "source": [
    "y = train_with_lags.LIQ_RATE\n",
    "data_to_test_df = train_with_lags.drop(columns=[\"WELL_NAME\", \"CHARWORK\", \"WATER_CUT\", \"LIQ_RATE\", \"P_ZAB\", \"INTAKE\", \"MEASURED_IN_DATE\"])"
   ]
  },
  {
   "cell_type": "code",
   "execution_count": 103,
   "id": "782d55d2",
   "metadata": {},
   "outputs": [
    {
     "data": {
      "text/html": [
       "<div>\n",
       "<style scoped>\n",
       "    .dataframe tbody tr th:only-of-type {\n",
       "        vertical-align: middle;\n",
       "    }\n",
       "\n",
       "    .dataframe tbody tr th {\n",
       "        vertical-align: top;\n",
       "    }\n",
       "\n",
       "    .dataframe thead th {\n",
       "        text-align: right;\n",
       "    }\n",
       "</style>\n",
       "<table border=\"1\" class=\"dataframe\">\n",
       "  <thead>\n",
       "    <tr style=\"text-align: right;\">\n",
       "      <th></th>\n",
       "      <th>lag_t-1</th>\n",
       "      <th>lag_t-2</th>\n",
       "      <th>lag_t-3</th>\n",
       "      <th>lag_t-4</th>\n",
       "      <th>lag_t-5</th>\n",
       "      <th>lag_t-6</th>\n",
       "      <th>lag_t-7</th>\n",
       "      <th>lag_t-8</th>\n",
       "      <th>lag_t-9</th>\n",
       "      <th>lag_t-10</th>\n",
       "      <th>...</th>\n",
       "      <th>lag_t-111</th>\n",
       "      <th>lag_t-112</th>\n",
       "      <th>lag_t-113</th>\n",
       "      <th>lag_t-114</th>\n",
       "      <th>lag_t-115</th>\n",
       "      <th>lag_t-116</th>\n",
       "      <th>lag_t-117</th>\n",
       "      <th>lag_t-118</th>\n",
       "      <th>lag_t-119</th>\n",
       "      <th>lag_t-120</th>\n",
       "    </tr>\n",
       "  </thead>\n",
       "  <tbody>\n",
       "    <tr>\n",
       "      <th>120</th>\n",
       "      <td>0.0</td>\n",
       "      <td>0.0</td>\n",
       "      <td>0.0</td>\n",
       "      <td>0.0</td>\n",
       "      <td>0.0</td>\n",
       "      <td>0.0</td>\n",
       "      <td>0.0</td>\n",
       "      <td>0.0</td>\n",
       "      <td>0.0</td>\n",
       "      <td>0.0</td>\n",
       "      <td>...</td>\n",
       "      <td>0.0</td>\n",
       "      <td>0.0</td>\n",
       "      <td>0.0</td>\n",
       "      <td>0.0</td>\n",
       "      <td>0.0</td>\n",
       "      <td>0.0</td>\n",
       "      <td>0.0</td>\n",
       "      <td>0.0</td>\n",
       "      <td>0.0</td>\n",
       "      <td>0.0</td>\n",
       "    </tr>\n",
       "    <tr>\n",
       "      <th>121</th>\n",
       "      <td>0.0</td>\n",
       "      <td>0.0</td>\n",
       "      <td>0.0</td>\n",
       "      <td>0.0</td>\n",
       "      <td>0.0</td>\n",
       "      <td>0.0</td>\n",
       "      <td>0.0</td>\n",
       "      <td>0.0</td>\n",
       "      <td>0.0</td>\n",
       "      <td>0.0</td>\n",
       "      <td>...</td>\n",
       "      <td>0.0</td>\n",
       "      <td>0.0</td>\n",
       "      <td>0.0</td>\n",
       "      <td>0.0</td>\n",
       "      <td>0.0</td>\n",
       "      <td>0.0</td>\n",
       "      <td>0.0</td>\n",
       "      <td>0.0</td>\n",
       "      <td>0.0</td>\n",
       "      <td>0.0</td>\n",
       "    </tr>\n",
       "    <tr>\n",
       "      <th>122</th>\n",
       "      <td>0.0</td>\n",
       "      <td>0.0</td>\n",
       "      <td>0.0</td>\n",
       "      <td>0.0</td>\n",
       "      <td>0.0</td>\n",
       "      <td>0.0</td>\n",
       "      <td>0.0</td>\n",
       "      <td>0.0</td>\n",
       "      <td>0.0</td>\n",
       "      <td>0.0</td>\n",
       "      <td>...</td>\n",
       "      <td>0.0</td>\n",
       "      <td>0.0</td>\n",
       "      <td>0.0</td>\n",
       "      <td>0.0</td>\n",
       "      <td>0.0</td>\n",
       "      <td>0.0</td>\n",
       "      <td>0.0</td>\n",
       "      <td>0.0</td>\n",
       "      <td>0.0</td>\n",
       "      <td>0.0</td>\n",
       "    </tr>\n",
       "    <tr>\n",
       "      <th>123</th>\n",
       "      <td>0.0</td>\n",
       "      <td>0.0</td>\n",
       "      <td>0.0</td>\n",
       "      <td>0.0</td>\n",
       "      <td>0.0</td>\n",
       "      <td>0.0</td>\n",
       "      <td>0.0</td>\n",
       "      <td>0.0</td>\n",
       "      <td>0.0</td>\n",
       "      <td>0.0</td>\n",
       "      <td>...</td>\n",
       "      <td>0.0</td>\n",
       "      <td>0.0</td>\n",
       "      <td>0.0</td>\n",
       "      <td>0.0</td>\n",
       "      <td>0.0</td>\n",
       "      <td>0.0</td>\n",
       "      <td>0.0</td>\n",
       "      <td>0.0</td>\n",
       "      <td>0.0</td>\n",
       "      <td>0.0</td>\n",
       "    </tr>\n",
       "    <tr>\n",
       "      <th>124</th>\n",
       "      <td>0.0</td>\n",
       "      <td>0.0</td>\n",
       "      <td>0.0</td>\n",
       "      <td>0.0</td>\n",
       "      <td>0.0</td>\n",
       "      <td>0.0</td>\n",
       "      <td>0.0</td>\n",
       "      <td>0.0</td>\n",
       "      <td>0.0</td>\n",
       "      <td>0.0</td>\n",
       "      <td>...</td>\n",
       "      <td>0.0</td>\n",
       "      <td>0.0</td>\n",
       "      <td>0.0</td>\n",
       "      <td>0.0</td>\n",
       "      <td>0.0</td>\n",
       "      <td>0.0</td>\n",
       "      <td>0.0</td>\n",
       "      <td>0.0</td>\n",
       "      <td>0.0</td>\n",
       "      <td>0.0</td>\n",
       "    </tr>\n",
       "    <tr>\n",
       "      <th>...</th>\n",
       "      <td>...</td>\n",
       "      <td>...</td>\n",
       "      <td>...</td>\n",
       "      <td>...</td>\n",
       "      <td>...</td>\n",
       "      <td>...</td>\n",
       "      <td>...</td>\n",
       "      <td>...</td>\n",
       "      <td>...</td>\n",
       "      <td>...</td>\n",
       "      <td>...</td>\n",
       "      <td>...</td>\n",
       "      <td>...</td>\n",
       "      <td>...</td>\n",
       "      <td>...</td>\n",
       "      <td>...</td>\n",
       "      <td>...</td>\n",
       "      <td>...</td>\n",
       "      <td>...</td>\n",
       "      <td>...</td>\n",
       "      <td>...</td>\n",
       "    </tr>\n",
       "    <tr>\n",
       "      <th>177570</th>\n",
       "      <td>328.0</td>\n",
       "      <td>328.0</td>\n",
       "      <td>328.0</td>\n",
       "      <td>328.0</td>\n",
       "      <td>328.0</td>\n",
       "      <td>328.0</td>\n",
       "      <td>328.0</td>\n",
       "      <td>328.0</td>\n",
       "      <td>328.0</td>\n",
       "      <td>361.0</td>\n",
       "      <td>...</td>\n",
       "      <td>391.0</td>\n",
       "      <td>403.0</td>\n",
       "      <td>388.0</td>\n",
       "      <td>392.0</td>\n",
       "      <td>394.0</td>\n",
       "      <td>396.0</td>\n",
       "      <td>396.0</td>\n",
       "      <td>398.0</td>\n",
       "      <td>402.0</td>\n",
       "      <td>406.0</td>\n",
       "    </tr>\n",
       "    <tr>\n",
       "      <th>177571</th>\n",
       "      <td>328.0</td>\n",
       "      <td>328.0</td>\n",
       "      <td>328.0</td>\n",
       "      <td>328.0</td>\n",
       "      <td>328.0</td>\n",
       "      <td>328.0</td>\n",
       "      <td>328.0</td>\n",
       "      <td>328.0</td>\n",
       "      <td>328.0</td>\n",
       "      <td>328.0</td>\n",
       "      <td>...</td>\n",
       "      <td>392.0</td>\n",
       "      <td>391.0</td>\n",
       "      <td>403.0</td>\n",
       "      <td>388.0</td>\n",
       "      <td>392.0</td>\n",
       "      <td>394.0</td>\n",
       "      <td>396.0</td>\n",
       "      <td>396.0</td>\n",
       "      <td>398.0</td>\n",
       "      <td>402.0</td>\n",
       "    </tr>\n",
       "    <tr>\n",
       "      <th>177572</th>\n",
       "      <td>328.0</td>\n",
       "      <td>328.0</td>\n",
       "      <td>328.0</td>\n",
       "      <td>328.0</td>\n",
       "      <td>328.0</td>\n",
       "      <td>328.0</td>\n",
       "      <td>328.0</td>\n",
       "      <td>328.0</td>\n",
       "      <td>328.0</td>\n",
       "      <td>328.0</td>\n",
       "      <td>...</td>\n",
       "      <td>394.0</td>\n",
       "      <td>392.0</td>\n",
       "      <td>391.0</td>\n",
       "      <td>403.0</td>\n",
       "      <td>388.0</td>\n",
       "      <td>392.0</td>\n",
       "      <td>394.0</td>\n",
       "      <td>396.0</td>\n",
       "      <td>396.0</td>\n",
       "      <td>398.0</td>\n",
       "    </tr>\n",
       "    <tr>\n",
       "      <th>177573</th>\n",
       "      <td>328.0</td>\n",
       "      <td>328.0</td>\n",
       "      <td>328.0</td>\n",
       "      <td>328.0</td>\n",
       "      <td>328.0</td>\n",
       "      <td>328.0</td>\n",
       "      <td>328.0</td>\n",
       "      <td>328.0</td>\n",
       "      <td>328.0</td>\n",
       "      <td>328.0</td>\n",
       "      <td>...</td>\n",
       "      <td>387.0</td>\n",
       "      <td>394.0</td>\n",
       "      <td>392.0</td>\n",
       "      <td>391.0</td>\n",
       "      <td>403.0</td>\n",
       "      <td>388.0</td>\n",
       "      <td>392.0</td>\n",
       "      <td>394.0</td>\n",
       "      <td>396.0</td>\n",
       "      <td>396.0</td>\n",
       "    </tr>\n",
       "    <tr>\n",
       "      <th>177574</th>\n",
       "      <td>328.0</td>\n",
       "      <td>328.0</td>\n",
       "      <td>328.0</td>\n",
       "      <td>328.0</td>\n",
       "      <td>328.0</td>\n",
       "      <td>328.0</td>\n",
       "      <td>328.0</td>\n",
       "      <td>328.0</td>\n",
       "      <td>328.0</td>\n",
       "      <td>328.0</td>\n",
       "      <td>...</td>\n",
       "      <td>384.0</td>\n",
       "      <td>387.0</td>\n",
       "      <td>394.0</td>\n",
       "      <td>392.0</td>\n",
       "      <td>391.0</td>\n",
       "      <td>403.0</td>\n",
       "      <td>388.0</td>\n",
       "      <td>392.0</td>\n",
       "      <td>394.0</td>\n",
       "      <td>396.0</td>\n",
       "    </tr>\n",
       "  </tbody>\n",
       "</table>\n",
       "<p>141509 rows × 120 columns</p>\n",
       "</div>"
      ],
      "text/plain": [
       "        lag_t-1  lag_t-2  lag_t-3  lag_t-4  lag_t-5  lag_t-6  lag_t-7  \\\n",
       "120         0.0      0.0      0.0      0.0      0.0      0.0      0.0   \n",
       "121         0.0      0.0      0.0      0.0      0.0      0.0      0.0   \n",
       "122         0.0      0.0      0.0      0.0      0.0      0.0      0.0   \n",
       "123         0.0      0.0      0.0      0.0      0.0      0.0      0.0   \n",
       "124         0.0      0.0      0.0      0.0      0.0      0.0      0.0   \n",
       "...         ...      ...      ...      ...      ...      ...      ...   \n",
       "177570    328.0    328.0    328.0    328.0    328.0    328.0    328.0   \n",
       "177571    328.0    328.0    328.0    328.0    328.0    328.0    328.0   \n",
       "177572    328.0    328.0    328.0    328.0    328.0    328.0    328.0   \n",
       "177573    328.0    328.0    328.0    328.0    328.0    328.0    328.0   \n",
       "177574    328.0    328.0    328.0    328.0    328.0    328.0    328.0   \n",
       "\n",
       "        lag_t-8  lag_t-9  lag_t-10  ...  lag_t-111  lag_t-112  lag_t-113  \\\n",
       "120         0.0      0.0       0.0  ...        0.0        0.0        0.0   \n",
       "121         0.0      0.0       0.0  ...        0.0        0.0        0.0   \n",
       "122         0.0      0.0       0.0  ...        0.0        0.0        0.0   \n",
       "123         0.0      0.0       0.0  ...        0.0        0.0        0.0   \n",
       "124         0.0      0.0       0.0  ...        0.0        0.0        0.0   \n",
       "...         ...      ...       ...  ...        ...        ...        ...   \n",
       "177570    328.0    328.0     361.0  ...      391.0      403.0      388.0   \n",
       "177571    328.0    328.0     328.0  ...      392.0      391.0      403.0   \n",
       "177572    328.0    328.0     328.0  ...      394.0      392.0      391.0   \n",
       "177573    328.0    328.0     328.0  ...      387.0      394.0      392.0   \n",
       "177574    328.0    328.0     328.0  ...      384.0      387.0      394.0   \n",
       "\n",
       "        lag_t-114  lag_t-115  lag_t-116  lag_t-117  lag_t-118  lag_t-119  \\\n",
       "120           0.0        0.0        0.0        0.0        0.0        0.0   \n",
       "121           0.0        0.0        0.0        0.0        0.0        0.0   \n",
       "122           0.0        0.0        0.0        0.0        0.0        0.0   \n",
       "123           0.0        0.0        0.0        0.0        0.0        0.0   \n",
       "124           0.0        0.0        0.0        0.0        0.0        0.0   \n",
       "...           ...        ...        ...        ...        ...        ...   \n",
       "177570      392.0      394.0      396.0      396.0      398.0      402.0   \n",
       "177571      388.0      392.0      394.0      396.0      396.0      398.0   \n",
       "177572      403.0      388.0      392.0      394.0      396.0      396.0   \n",
       "177573      391.0      403.0      388.0      392.0      394.0      396.0   \n",
       "177574      392.0      391.0      403.0      388.0      392.0      394.0   \n",
       "\n",
       "        lag_t-120  \n",
       "120           0.0  \n",
       "121           0.0  \n",
       "122           0.0  \n",
       "123           0.0  \n",
       "124           0.0  \n",
       "...           ...  \n",
       "177570      406.0  \n",
       "177571      402.0  \n",
       "177572      398.0  \n",
       "177573      396.0  \n",
       "177574      396.0  \n",
       "\n",
       "[141509 rows x 120 columns]"
      ]
     },
     "execution_count": 103,
     "metadata": {},
     "output_type": "execute_result"
    }
   ],
   "source": [
    "data_to_test_df"
   ]
  },
  {
   "cell_type": "code",
   "execution_count": 104,
   "id": "cb812fc5",
   "metadata": {},
   "outputs": [],
   "source": [
    "data_to_test = np.array(data_to_test_df[:-120])\n",
    "y_to_test = np.array(y[:-120])"
   ]
  },
  {
   "cell_type": "code",
   "execution_count": 118,
   "id": "51e03b52",
   "metadata": {},
   "outputs": [
    {
     "data": {
      "text/plain": [
       "(tensor([[0., 0., 0.,  ..., 0., 0., 0.],\n",
       "         [0., 0., 0.,  ..., 0., 0., 0.],\n",
       "         [0., 0., 0.,  ..., 0., 0., 0.],\n",
       "         ...,\n",
       "         [0., 0., 0.,  ..., 0., 0., 0.],\n",
       "         [0., 0., 0.,  ..., 0., 0., 0.],\n",
       "         [0., 0., 0.,  ..., 0., 0., 0.]], dtype=torch.float64),\n",
       " tensor([0., 0., 0., 0., 0., 0., 0., 0., 0., 0., 0., 0., 0., 0., 0., 0., 0., 0., 0., 0., 0., 0., 0., 0.,\n",
       "         0., 0., 0., 0., 0., 0., 0., 0.], dtype=torch.float64))"
      ]
     },
     "execution_count": 118,
     "metadata": {},
     "output_type": "execute_result"
    }
   ],
   "source": [
    "dataset = data_utils.TensorDataset(torch.from_numpy(data_to_test.astype(float)), torch.from_numpy(y_to_test.astype(float)))\n",
    "train_loader = data_utils.DataLoader(dataset, shuffle=False, batch_size=32)\n",
    "\n",
    "x_batch, y_batch = next(iter(train_loader))\n",
    "x_batch, y_batch"
   ]
  },
  {
   "cell_type": "code",
   "execution_count": 119,
   "id": "cedccfcd",
   "metadata": {},
   "outputs": [],
   "source": [
    "# path = \"C:\\Users\\sahab\\rosneft\\nn_05e1e718d93d96a73e6ddb6a307fe5de60fc53249d760cd81b13a6e7255d708e_LIQ_RATE.pth\"\n",
    "in_features = 120\n",
    "out_features = len(data_to_test) + 120\n",
    "with open(r\"rosneft\\05e1e718d93d96a73e6ddb6a307fe5de60fc53249d760cd81b13a6e7255d708e_metadata.pkl\", 'rb') as f:\n",
    "    nn_params = pickle.load(f)\n",
    "\n",
    "nn_params = {\n",
    "             'n_layers': 2,\n",
    "             'n_units_l0': 32,\n",
    "             'activate_l0': 'ReLU',\n",
    "             'n_units_l1': 64,\n",
    "             'activate_l1': 'ReLU',\n",
    "             'weight_decay': 1e-3,\n",
    "             'EPOCHS': 20\n",
    "        }\n",
    "\n",
    "nn_params1 = {\n",
    "             'n_layers': 3,\n",
    "             'n_units_l0': 128,\n",
    "             'activate_l0': 'ReLU',\n",
    "             'n_units_l1': 256,\n",
    "             'activate_l1': 'ReLU',\n",
    "             'n_units_l2': 128,\n",
    "             'activate_l2': 'ReLU',\n",
    "             'weight_decay': 1e-3,\n",
    "             'EPOCHS': 2000\n",
    "        }\n",
    "\n",
    "nn_params2 = {\n",
    "             'n_layers': 4,\n",
    "             'n_units_l0': 200,\n",
    "             'activate_l0': 'ReLU',\n",
    "             'n_units_l1': 300,\n",
    "             'activate_l1': 'ReLU',\n",
    "             'n_units_l2': 350,\n",
    "             'activate_l2': 'ReLU',\n",
    "             'n_units_l3': 300,\n",
    "             'activate_l3': 'ReLU',\n",
    "             'weight_decay': 1e-3,\n",
    "             'EPOCHS': 20000\n",
    "        }\n",
    "\n",
    "model = get_model(in_features, nn_params).to(device)"
   ]
  },
  {
   "cell_type": "code",
   "execution_count": 120,
   "id": "f0f8d89a",
   "metadata": {},
   "outputs": [
    {
     "data": {
      "text/plain": [
       "NN_dragon(\n",
       "  (features): Sequential(\n",
       "    (0): Linear(in_features=120, out_features=32, bias=True)\n",
       "    (1): BatchNorm1d(32, eps=1e-05, momentum=0.1, affine=False, track_running_stats=True)\n",
       "    (2): ReLU()\n",
       "    (3): Linear(in_features=32, out_features=64, bias=True)\n",
       "    (4): BatchNorm1d(64, eps=1e-05, momentum=0.1, affine=False, track_running_stats=True)\n",
       "    (5): ReLU()\n",
       "    (6): Linear(in_features=64, out_features=1, bias=True)\n",
       "  )\n",
       ")"
      ]
     },
     "execution_count": 120,
     "metadata": {},
     "output_type": "execute_result"
    }
   ],
   "source": [
    "model.eval()"
   ]
  },
  {
   "cell_type": "code",
   "execution_count": 126,
   "id": "3ea358f6",
   "metadata": {
    "scrolled": true
   },
   "outputs": [
    {
     "name": "stderr",
     "output_type": "stream",
     "text": [
      "epoch:   0%|                                                                                   | 0/100 [00:00<?, ?it/s]C:\\Users\\sahab\\anaconda3\\lib\\site-packages\\torch\\nn\\modules\\loss.py:530: UserWarning: Using a target size (torch.Size([13])) that is different to the input size (torch.Size([13, 1])). This will likely lead to incorrect results due to broadcasting. Please ensure they have the same size.\n",
      "  return F.mse_loss(input, target, reduction=self.reduction)\n",
      "epoch:   1%|▊                                                                          | 1/100 [00:10<16:56, 10.27s/it]"
     ]
    },
    {
     "name": "stdout",
     "output_type": "stream",
     "text": [
      "\n",
      "Epoch 001 train_loss: 399.5342\n"
     ]
    },
    {
     "name": "stderr",
     "output_type": "stream",
     "text": [
      "epoch:   2%|█▌                                                                         | 2/100 [00:20<16:43, 10.24s/it]"
     ]
    },
    {
     "name": "stdout",
     "output_type": "stream",
     "text": [
      "\n",
      "Epoch 002 train_loss: 372.2456\n"
     ]
    },
    {
     "name": "stderr",
     "output_type": "stream",
     "text": [
      "epoch:   3%|██▎                                                                        | 3/100 [00:30<16:37, 10.28s/it]"
     ]
    },
    {
     "name": "stdout",
     "output_type": "stream",
     "text": [
      "\n",
      "Epoch 003 train_loss: 335.4102\n"
     ]
    },
    {
     "name": "stderr",
     "output_type": "stream",
     "text": [
      "epoch:   4%|███                                                                        | 4/100 [00:41<16:27, 10.29s/it]"
     ]
    },
    {
     "name": "stdout",
     "output_type": "stream",
     "text": [
      "\n",
      "Epoch 004 train_loss: 324.8405\n"
     ]
    },
    {
     "name": "stderr",
     "output_type": "stream",
     "text": [
      "epoch:   5%|███▊                                                                       | 5/100 [00:51<16:16, 10.27s/it]"
     ]
    },
    {
     "name": "stdout",
     "output_type": "stream",
     "text": [
      "\n",
      "Epoch 005 train_loss: 357.9325\n"
     ]
    },
    {
     "name": "stderr",
     "output_type": "stream",
     "text": [
      "epoch:   6%|████▌                                                                      | 6/100 [01:01<16:05, 10.27s/it]"
     ]
    },
    {
     "name": "stdout",
     "output_type": "stream",
     "text": [
      "\n",
      "Epoch 006 train_loss: 302.6644\n"
     ]
    },
    {
     "name": "stderr",
     "output_type": "stream",
     "text": [
      "epoch:   7%|█████▎                                                                     | 7/100 [01:11<15:57, 10.30s/it]"
     ]
    },
    {
     "name": "stdout",
     "output_type": "stream",
     "text": [
      "\n",
      "Epoch 007 train_loss: 311.2646\n"
     ]
    },
    {
     "name": "stderr",
     "output_type": "stream",
     "text": [
      "epoch:   8%|██████                                                                     | 8/100 [01:22<15:49, 10.32s/it]"
     ]
    },
    {
     "name": "stdout",
     "output_type": "stream",
     "text": [
      "\n",
      "Epoch 008 train_loss: 301.6726\n"
     ]
    },
    {
     "name": "stderr",
     "output_type": "stream",
     "text": [
      "epoch:   9%|██████▊                                                                    | 9/100 [01:32<15:38, 10.31s/it]"
     ]
    },
    {
     "name": "stdout",
     "output_type": "stream",
     "text": [
      "\n",
      "Epoch 009 train_loss: 280.4147\n"
     ]
    },
    {
     "name": "stderr",
     "output_type": "stream",
     "text": [
      "epoch:  10%|███████▍                                                                  | 10/100 [01:42<15:26, 10.29s/it]"
     ]
    },
    {
     "name": "stdout",
     "output_type": "stream",
     "text": [
      "\n",
      "Epoch 010 train_loss: 240.5798\n"
     ]
    },
    {
     "name": "stderr",
     "output_type": "stream",
     "text": [
      "epoch:  11%|████████▏                                                                 | 11/100 [01:53<15:16, 10.30s/it]"
     ]
    },
    {
     "name": "stdout",
     "output_type": "stream",
     "text": [
      "\n",
      "Epoch 011 train_loss: 229.5768\n"
     ]
    },
    {
     "name": "stderr",
     "output_type": "stream",
     "text": [
      "epoch:  12%|████████▉                                                                 | 12/100 [02:03<15:08, 10.32s/it]"
     ]
    },
    {
     "name": "stdout",
     "output_type": "stream",
     "text": [
      "\n",
      "Epoch 012 train_loss: 215.2595\n"
     ]
    },
    {
     "name": "stderr",
     "output_type": "stream",
     "text": [
      "epoch:  13%|█████████▌                                                                | 13/100 [02:13<14:58, 10.32s/it]"
     ]
    },
    {
     "name": "stdout",
     "output_type": "stream",
     "text": [
      "\n",
      "Epoch 013 train_loss: 214.1904\n"
     ]
    },
    {
     "name": "stderr",
     "output_type": "stream",
     "text": [
      "epoch:  14%|██████████▎                                                               | 14/100 [02:24<14:46, 10.30s/it]"
     ]
    },
    {
     "name": "stdout",
     "output_type": "stream",
     "text": [
      "\n",
      "Epoch 014 train_loss: 342.8818\n"
     ]
    },
    {
     "name": "stderr",
     "output_type": "stream",
     "text": [
      "epoch:  15%|███████████                                                               | 15/100 [02:34<14:36, 10.31s/it]"
     ]
    },
    {
     "name": "stdout",
     "output_type": "stream",
     "text": [
      "\n",
      "Epoch 015 train_loss: 278.8898\n"
     ]
    },
    {
     "name": "stderr",
     "output_type": "stream",
     "text": [
      "epoch:  16%|███████████▊                                                              | 16/100 [02:44<14:26, 10.32s/it]"
     ]
    },
    {
     "name": "stdout",
     "output_type": "stream",
     "text": [
      "\n",
      "Epoch 016 train_loss: 239.8416\n"
     ]
    },
    {
     "name": "stderr",
     "output_type": "stream",
     "text": [
      "epoch:  17%|████████████▌                                                             | 17/100 [02:55<14:17, 10.33s/it]"
     ]
    },
    {
     "name": "stdout",
     "output_type": "stream",
     "text": [
      "\n",
      "Epoch 017 train_loss: 205.8106\n"
     ]
    },
    {
     "name": "stderr",
     "output_type": "stream",
     "text": [
      "epoch:  18%|█████████████▎                                                            | 18/100 [03:05<14:06, 10.33s/it]"
     ]
    },
    {
     "name": "stdout",
     "output_type": "stream",
     "text": [
      "\n",
      "Epoch 018 train_loss: 338.1060\n"
     ]
    },
    {
     "name": "stderr",
     "output_type": "stream",
     "text": [
      "epoch:  19%|██████████████                                                            | 19/100 [03:15<13:55, 10.31s/it]"
     ]
    },
    {
     "name": "stdout",
     "output_type": "stream",
     "text": [
      "\n",
      "Epoch 019 train_loss: 225.3951\n"
     ]
    },
    {
     "name": "stderr",
     "output_type": "stream",
     "text": [
      "epoch:  20%|██████████████▊                                                           | 20/100 [03:26<13:45, 10.32s/it]"
     ]
    },
    {
     "name": "stdout",
     "output_type": "stream",
     "text": [
      "\n",
      "Epoch 020 train_loss: 277.7850\n"
     ]
    },
    {
     "name": "stderr",
     "output_type": "stream",
     "text": [
      "epoch:  21%|███████████████▌                                                          | 21/100 [03:36<13:36, 10.33s/it]"
     ]
    },
    {
     "name": "stdout",
     "output_type": "stream",
     "text": [
      "\n",
      "Epoch 021 train_loss: 217.6586\n"
     ]
    },
    {
     "name": "stderr",
     "output_type": "stream",
     "text": [
      "epoch:  22%|████████████████▎                                                         | 22/100 [03:46<13:27, 10.35s/it]"
     ]
    },
    {
     "name": "stdout",
     "output_type": "stream",
     "text": [
      "\n",
      "Epoch 022 train_loss: 217.9858\n"
     ]
    },
    {
     "name": "stderr",
     "output_type": "stream",
     "text": [
      "epoch:  23%|█████████████████                                                         | 23/100 [03:57<13:16, 10.34s/it]"
     ]
    },
    {
     "name": "stdout",
     "output_type": "stream",
     "text": [
      "\n",
      "Epoch 023 train_loss: 196.0691\n"
     ]
    },
    {
     "name": "stderr",
     "output_type": "stream",
     "text": [
      "epoch:  24%|█████████████████▊                                                        | 24/100 [04:07<13:06, 10.35s/it]"
     ]
    },
    {
     "name": "stdout",
     "output_type": "stream",
     "text": [
      "\n",
      "Epoch 024 train_loss: 263.9073\n"
     ]
    },
    {
     "name": "stderr",
     "output_type": "stream",
     "text": [
      "epoch:  25%|██████████████████▌                                                       | 25/100 [04:17<12:55, 10.34s/it]"
     ]
    },
    {
     "name": "stdout",
     "output_type": "stream",
     "text": [
      "\n",
      "Epoch 025 train_loss: 205.8217\n"
     ]
    },
    {
     "name": "stderr",
     "output_type": "stream",
     "text": [
      "epoch:  26%|███████████████████▏                                                      | 26/100 [04:28<12:45, 10.35s/it]"
     ]
    },
    {
     "name": "stdout",
     "output_type": "stream",
     "text": [
      "\n",
      "Epoch 026 train_loss: 237.7168\n"
     ]
    },
    {
     "name": "stderr",
     "output_type": "stream",
     "text": [
      "epoch:  27%|███████████████████▉                                                      | 27/100 [04:38<12:36, 10.36s/it]"
     ]
    },
    {
     "name": "stdout",
     "output_type": "stream",
     "text": [
      "\n",
      "Epoch 027 train_loss: 232.0914\n"
     ]
    },
    {
     "name": "stderr",
     "output_type": "stream",
     "text": [
      "epoch:  28%|████████████████████▋                                                     | 28/100 [04:48<12:24, 10.33s/it]"
     ]
    },
    {
     "name": "stdout",
     "output_type": "stream",
     "text": [
      "\n",
      "Epoch 028 train_loss: 223.1300\n"
     ]
    },
    {
     "name": "stderr",
     "output_type": "stream",
     "text": [
      "epoch:  29%|█████████████████████▍                                                    | 29/100 [04:59<12:13, 10.33s/it]"
     ]
    },
    {
     "name": "stdout",
     "output_type": "stream",
     "text": [
      "\n",
      "Epoch 029 train_loss: 199.6400\n"
     ]
    },
    {
     "name": "stderr",
     "output_type": "stream",
     "text": [
      "epoch:  30%|██████████████████████▏                                                   | 30/100 [05:09<12:03, 10.33s/it]"
     ]
    },
    {
     "name": "stdout",
     "output_type": "stream",
     "text": [
      "\n",
      "Epoch 030 train_loss: 179.8903\n"
     ]
    },
    {
     "name": "stderr",
     "output_type": "stream",
     "text": [
      "epoch:  31%|██████████████████████▉                                                   | 31/100 [05:19<11:53, 10.34s/it]"
     ]
    },
    {
     "name": "stdout",
     "output_type": "stream",
     "text": [
      "\n",
      "Epoch 031 train_loss: 201.3630\n"
     ]
    },
    {
     "name": "stderr",
     "output_type": "stream",
     "text": [
      "epoch:  32%|███████████████████████▋                                                  | 32/100 [05:31<12:00, 10.59s/it]"
     ]
    },
    {
     "name": "stdout",
     "output_type": "stream",
     "text": [
      "\n",
      "Epoch 032 train_loss: 189.7131\n"
     ]
    },
    {
     "name": "stderr",
     "output_type": "stream",
     "text": [
      "epoch:  33%|████████████████████████▍                                                 | 33/100 [05:41<11:43, 10.50s/it]"
     ]
    },
    {
     "name": "stdout",
     "output_type": "stream",
     "text": [
      "\n",
      "Epoch 033 train_loss: 176.1460\n"
     ]
    },
    {
     "name": "stderr",
     "output_type": "stream",
     "text": [
      "epoch:  34%|█████████████████████████▏                                                | 34/100 [05:51<11:27, 10.42s/it]"
     ]
    },
    {
     "name": "stdout",
     "output_type": "stream",
     "text": [
      "\n",
      "Epoch 034 train_loss: 193.0513\n"
     ]
    },
    {
     "name": "stderr",
     "output_type": "stream",
     "text": [
      "epoch:  35%|█████████████████████████▉                                                | 35/100 [06:01<11:14, 10.37s/it]"
     ]
    },
    {
     "name": "stdout",
     "output_type": "stream",
     "text": [
      "\n",
      "Epoch 035 train_loss: 213.9393\n"
     ]
    },
    {
     "name": "stderr",
     "output_type": "stream",
     "text": [
      "epoch:  36%|██████████████████████████▋                                               | 36/100 [06:12<11:01, 10.34s/it]"
     ]
    },
    {
     "name": "stdout",
     "output_type": "stream",
     "text": [
      "\n",
      "Epoch 036 train_loss: 166.2508\n"
     ]
    },
    {
     "name": "stderr",
     "output_type": "stream",
     "text": [
      "epoch:  37%|███████████████████████████▍                                              | 37/100 [06:22<10:49, 10.31s/it]"
     ]
    },
    {
     "name": "stdout",
     "output_type": "stream",
     "text": [
      "\n",
      "Epoch 037 train_loss: 174.4852\n"
     ]
    },
    {
     "name": "stderr",
     "output_type": "stream",
     "text": [
      "epoch:  38%|████████████████████████████                                              | 38/100 [06:32<10:38, 10.30s/it]"
     ]
    },
    {
     "name": "stdout",
     "output_type": "stream",
     "text": [
      "\n",
      "Epoch 038 train_loss: 168.6096\n"
     ]
    },
    {
     "name": "stderr",
     "output_type": "stream",
     "text": [
      "epoch:  39%|████████████████████████████▊                                             | 39/100 [06:42<10:27, 10.29s/it]"
     ]
    },
    {
     "name": "stdout",
     "output_type": "stream",
     "text": [
      "\n",
      "Epoch 039 train_loss: 193.0374\n"
     ]
    },
    {
     "name": "stderr",
     "output_type": "stream",
     "text": [
      "epoch:  40%|█████████████████████████████▌                                            | 40/100 [06:53<10:17, 10.29s/it]"
     ]
    },
    {
     "name": "stdout",
     "output_type": "stream",
     "text": [
      "\n",
      "Epoch 040 train_loss: 162.5883\n"
     ]
    },
    {
     "name": "stderr",
     "output_type": "stream",
     "text": [
      "epoch:  41%|██████████████████████████████▎                                           | 41/100 [07:03<10:06, 10.28s/it]"
     ]
    },
    {
     "name": "stdout",
     "output_type": "stream",
     "text": [
      "\n",
      "Epoch 041 train_loss: 167.8394\n"
     ]
    },
    {
     "name": "stderr",
     "output_type": "stream",
     "text": [
      "epoch:  42%|███████████████████████████████                                           | 42/100 [07:13<09:55, 10.27s/it]"
     ]
    },
    {
     "name": "stdout",
     "output_type": "stream",
     "text": [
      "\n",
      "Epoch 042 train_loss: 163.3369\n"
     ]
    },
    {
     "name": "stderr",
     "output_type": "stream",
     "text": [
      "epoch:  43%|███████████████████████████████▊                                          | 43/100 [07:23<09:44, 10.25s/it]"
     ]
    },
    {
     "name": "stdout",
     "output_type": "stream",
     "text": [
      "\n",
      "Epoch 043 train_loss: 162.6870\n"
     ]
    },
    {
     "name": "stderr",
     "output_type": "stream",
     "text": [
      "epoch:  44%|████████████████████████████████▌                                         | 44/100 [07:34<09:34, 10.27s/it]"
     ]
    },
    {
     "name": "stdout",
     "output_type": "stream",
     "text": [
      "\n",
      "Epoch 044 train_loss: 161.7914\n"
     ]
    },
    {
     "name": "stderr",
     "output_type": "stream",
     "text": [
      "epoch:  45%|█████████████████████████████████▎                                        | 45/100 [07:44<09:24, 10.27s/it]"
     ]
    },
    {
     "name": "stdout",
     "output_type": "stream",
     "text": [
      "\n",
      "Epoch 045 train_loss: 180.7702\n"
     ]
    },
    {
     "name": "stderr",
     "output_type": "stream",
     "text": [
      "epoch:  46%|██████████████████████████████████                                        | 46/100 [07:54<09:14, 10.26s/it]"
     ]
    },
    {
     "name": "stdout",
     "output_type": "stream",
     "text": [
      "\n",
      "Epoch 046 train_loss: 176.5467\n"
     ]
    },
    {
     "name": "stderr",
     "output_type": "stream",
     "text": [
      "epoch:  47%|██████████████████████████████████▊                                       | 47/100 [08:05<09:03, 10.25s/it]"
     ]
    },
    {
     "name": "stdout",
     "output_type": "stream",
     "text": [
      "\n",
      "Epoch 047 train_loss: 197.6858\n"
     ]
    },
    {
     "name": "stderr",
     "output_type": "stream",
     "text": [
      "epoch:  48%|███████████████████████████████████▌                                      | 48/100 [08:15<08:53, 10.25s/it]"
     ]
    },
    {
     "name": "stdout",
     "output_type": "stream",
     "text": [
      "\n",
      "Epoch 048 train_loss: 182.7729\n"
     ]
    },
    {
     "name": "stderr",
     "output_type": "stream",
     "text": [
      "epoch:  49%|████████████████████████████████████▎                                     | 49/100 [08:25<08:42, 10.25s/it]"
     ]
    },
    {
     "name": "stdout",
     "output_type": "stream",
     "text": [
      "\n",
      "Epoch 049 train_loss: 173.4072\n"
     ]
    },
    {
     "name": "stderr",
     "output_type": "stream",
     "text": [
      "epoch:  50%|█████████████████████████████████████                                     | 50/100 [08:35<08:33, 10.28s/it]"
     ]
    },
    {
     "name": "stdout",
     "output_type": "stream",
     "text": [
      "\n",
      "Epoch 050 train_loss: 172.4792\n"
     ]
    },
    {
     "name": "stderr",
     "output_type": "stream",
     "text": [
      "epoch:  51%|█████████████████████████████████████▋                                    | 51/100 [08:46<08:29, 10.40s/it]"
     ]
    },
    {
     "name": "stdout",
     "output_type": "stream",
     "text": [
      "\n",
      "Epoch 051 train_loss: 165.3892\n"
     ]
    },
    {
     "name": "stderr",
     "output_type": "stream",
     "text": [
      "epoch:  52%|██████████████████████████████████████▍                                   | 52/100 [08:57<08:22, 10.47s/it]"
     ]
    },
    {
     "name": "stdout",
     "output_type": "stream",
     "text": [
      "\n",
      "Epoch 052 train_loss: 165.5119\n"
     ]
    },
    {
     "name": "stderr",
     "output_type": "stream",
     "text": [
      "epoch:  53%|███████████████████████████████████████▏                                  | 53/100 [09:07<08:08, 10.40s/it]"
     ]
    },
    {
     "name": "stdout",
     "output_type": "stream",
     "text": [
      "\n",
      "Epoch 053 train_loss: 162.2823\n"
     ]
    },
    {
     "name": "stderr",
     "output_type": "stream",
     "text": [
      "epoch:  54%|███████████████████████████████████████▉                                  | 54/100 [09:17<07:56, 10.36s/it]"
     ]
    },
    {
     "name": "stdout",
     "output_type": "stream",
     "text": [
      "\n",
      "Epoch 054 train_loss: 176.5996\n"
     ]
    },
    {
     "name": "stderr",
     "output_type": "stream",
     "text": [
      "epoch:  55%|████████████████████████████████████████▋                                 | 55/100 [09:27<07:44, 10.32s/it]"
     ]
    },
    {
     "name": "stdout",
     "output_type": "stream",
     "text": [
      "\n",
      "Epoch 055 train_loss: 167.2403\n"
     ]
    },
    {
     "name": "stderr",
     "output_type": "stream",
     "text": [
      "epoch:  56%|█████████████████████████████████████████▍                                | 56/100 [09:38<07:33, 10.30s/it]"
     ]
    },
    {
     "name": "stdout",
     "output_type": "stream",
     "text": [
      "\n",
      "Epoch 056 train_loss: 168.0174\n"
     ]
    },
    {
     "name": "stderr",
     "output_type": "stream",
     "text": [
      "epoch:  57%|██████████████████████████████████████████▏                               | 57/100 [09:48<07:22, 10.29s/it]"
     ]
    },
    {
     "name": "stdout",
     "output_type": "stream",
     "text": [
      "\n",
      "Epoch 057 train_loss: 162.8537\n"
     ]
    },
    {
     "name": "stderr",
     "output_type": "stream",
     "text": [
      "epoch:  58%|██████████████████████████████████████████▉                               | 58/100 [09:58<07:11, 10.27s/it]"
     ]
    },
    {
     "name": "stdout",
     "output_type": "stream",
     "text": [
      "\n",
      "Epoch 058 train_loss: 160.2380\n"
     ]
    },
    {
     "name": "stderr",
     "output_type": "stream",
     "text": [
      "epoch:  59%|███████████████████████████████████████████▋                              | 59/100 [10:08<07:00, 10.26s/it]"
     ]
    },
    {
     "name": "stdout",
     "output_type": "stream",
     "text": [
      "\n",
      "Epoch 059 train_loss: 160.2541\n"
     ]
    },
    {
     "name": "stderr",
     "output_type": "stream",
     "text": [
      "epoch:  60%|████████████████████████████████████████████▍                             | 60/100 [10:19<06:50, 10.26s/it]"
     ]
    },
    {
     "name": "stdout",
     "output_type": "stream",
     "text": [
      "\n",
      "Epoch 060 train_loss: 159.8486\n"
     ]
    },
    {
     "name": "stderr",
     "output_type": "stream",
     "text": [
      "epoch:  61%|█████████████████████████████████████████████▏                            | 61/100 [10:29<06:39, 10.24s/it]"
     ]
    },
    {
     "name": "stdout",
     "output_type": "stream",
     "text": [
      "\n",
      "Epoch 061 train_loss: 176.5238\n"
     ]
    },
    {
     "name": "stderr",
     "output_type": "stream",
     "text": [
      "epoch:  62%|█████████████████████████████████████████████▉                            | 62/100 [10:40<06:34, 10.39s/it]"
     ]
    },
    {
     "name": "stdout",
     "output_type": "stream",
     "text": [
      "\n",
      "Epoch 062 train_loss: 166.7514\n"
     ]
    },
    {
     "name": "stderr",
     "output_type": "stream",
     "text": [
      "epoch:  63%|██████████████████████████████████████████████▌                           | 63/100 [10:50<06:28, 10.49s/it]"
     ]
    },
    {
     "name": "stdout",
     "output_type": "stream",
     "text": [
      "\n",
      "Epoch 063 train_loss: 159.7787\n"
     ]
    },
    {
     "name": "stderr",
     "output_type": "stream",
     "text": [
      "epoch:  64%|███████████████████████████████████████████████▎                          | 64/100 [11:01<06:15, 10.44s/it]"
     ]
    },
    {
     "name": "stdout",
     "output_type": "stream",
     "text": [
      "\n",
      "Epoch 064 train_loss: 159.6043\n"
     ]
    },
    {
     "name": "stderr",
     "output_type": "stream",
     "text": [
      "epoch:  65%|████████████████████████████████████████████████                          | 65/100 [11:11<06:03, 10.38s/it]"
     ]
    },
    {
     "name": "stdout",
     "output_type": "stream",
     "text": [
      "\n",
      "Epoch 065 train_loss: 193.4753\n"
     ]
    },
    {
     "name": "stderr",
     "output_type": "stream",
     "text": [
      "epoch:  66%|████████████████████████████████████████████████▊                         | 66/100 [11:21<05:51, 10.34s/it]"
     ]
    },
    {
     "name": "stdout",
     "output_type": "stream",
     "text": [
      "\n",
      "Epoch 066 train_loss: 159.3198\n"
     ]
    },
    {
     "name": "stderr",
     "output_type": "stream",
     "text": [
      "epoch:  67%|█████████████████████████████████████████████████▌                        | 67/100 [11:31<05:40, 10.32s/it]"
     ]
    },
    {
     "name": "stdout",
     "output_type": "stream",
     "text": [
      "\n",
      "Epoch 067 train_loss: 159.1541\n"
     ]
    },
    {
     "name": "stderr",
     "output_type": "stream",
     "text": [
      "epoch:  68%|██████████████████████████████████████████████████▎                       | 68/100 [11:42<05:30, 10.33s/it]"
     ]
    },
    {
     "name": "stdout",
     "output_type": "stream",
     "text": [
      "\n",
      "Epoch 068 train_loss: 159.1896\n"
     ]
    },
    {
     "name": "stderr",
     "output_type": "stream",
     "text": [
      "epoch:  69%|███████████████████████████████████████████████████                       | 69/100 [11:52<05:20, 10.34s/it]"
     ]
    },
    {
     "name": "stdout",
     "output_type": "stream",
     "text": [
      "\n",
      "Epoch 069 train_loss: 159.0812\n"
     ]
    },
    {
     "name": "stderr",
     "output_type": "stream",
     "text": [
      "epoch:  70%|███████████████████████████████████████████████████▊                      | 70/100 [12:02<05:09, 10.33s/it]"
     ]
    },
    {
     "name": "stdout",
     "output_type": "stream",
     "text": [
      "\n",
      "Epoch 070 train_loss: 158.9942\n"
     ]
    },
    {
     "name": "stderr",
     "output_type": "stream",
     "text": [
      "epoch:  71%|████████████████████████████████████████████████████▌                     | 71/100 [12:13<04:58, 10.30s/it]"
     ]
    },
    {
     "name": "stdout",
     "output_type": "stream",
     "text": [
      "\n",
      "Epoch 071 train_loss: 170.7553\n"
     ]
    },
    {
     "name": "stderr",
     "output_type": "stream",
     "text": [
      "epoch:  72%|█████████████████████████████████████████████████████▎                    | 72/100 [12:23<04:48, 10.29s/it]"
     ]
    },
    {
     "name": "stdout",
     "output_type": "stream",
     "text": [
      "\n",
      "Epoch 072 train_loss: 161.8260\n"
     ]
    },
    {
     "name": "stderr",
     "output_type": "stream",
     "text": [
      "epoch:  73%|██████████████████████████████████████████████████████                    | 73/100 [12:33<04:38, 10.33s/it]"
     ]
    },
    {
     "name": "stdout",
     "output_type": "stream",
     "text": [
      "\n",
      "Epoch 073 train_loss: 162.8155\n"
     ]
    },
    {
     "name": "stderr",
     "output_type": "stream",
     "text": [
      "epoch:  74%|██████████████████████████████████████████████████████▊                   | 74/100 [12:44<04:28, 10.32s/it]"
     ]
    },
    {
     "name": "stdout",
     "output_type": "stream",
     "text": [
      "\n",
      "Epoch 074 train_loss: 159.5012\n"
     ]
    },
    {
     "name": "stderr",
     "output_type": "stream",
     "text": [
      "epoch:  75%|███████████████████████████████████████████████████████▌                  | 75/100 [12:54<04:17, 10.31s/it]"
     ]
    },
    {
     "name": "stdout",
     "output_type": "stream",
     "text": [
      "\n",
      "Epoch 075 train_loss: 252.4718\n"
     ]
    },
    {
     "name": "stderr",
     "output_type": "stream",
     "text": [
      "epoch:  76%|████████████████████████████████████████████████████████▏                 | 76/100 [13:04<04:07, 10.31s/it]"
     ]
    },
    {
     "name": "stdout",
     "output_type": "stream",
     "text": [
      "\n",
      "Epoch 076 train_loss: 200.0337\n"
     ]
    },
    {
     "name": "stderr",
     "output_type": "stream",
     "text": [
      "epoch:  77%|████████████████████████████████████████████████████████▉                 | 77/100 [13:15<03:57, 10.31s/it]"
     ]
    },
    {
     "name": "stdout",
     "output_type": "stream",
     "text": [
      "\n",
      "Epoch 077 train_loss: 160.6437\n"
     ]
    },
    {
     "name": "stderr",
     "output_type": "stream",
     "text": [
      "epoch:  78%|█████████████████████████████████████████████████████████▋                | 78/100 [13:25<03:47, 10.33s/it]"
     ]
    },
    {
     "name": "stdout",
     "output_type": "stream",
     "text": [
      "\n",
      "Epoch 078 train_loss: 172.3096\n"
     ]
    },
    {
     "name": "stderr",
     "output_type": "stream",
     "text": [
      "epoch:  79%|██████████████████████████████████████████████████████████▍               | 79/100 [13:35<03:37, 10.34s/it]"
     ]
    },
    {
     "name": "stdout",
     "output_type": "stream",
     "text": [
      "\n",
      "Epoch 079 train_loss: 161.5481\n"
     ]
    },
    {
     "name": "stderr",
     "output_type": "stream",
     "text": [
      "epoch:  80%|███████████████████████████████████████████████████████████▏              | 80/100 [13:46<03:27, 10.35s/it]"
     ]
    },
    {
     "name": "stdout",
     "output_type": "stream",
     "text": [
      "\n",
      "Epoch 080 train_loss: 179.3070\n"
     ]
    },
    {
     "name": "stderr",
     "output_type": "stream",
     "text": [
      "epoch:  81%|███████████████████████████████████████████████████████████▉              | 81/100 [13:56<03:16, 10.33s/it]"
     ]
    },
    {
     "name": "stdout",
     "output_type": "stream",
     "text": [
      "\n",
      "Epoch 081 train_loss: 160.1744\n"
     ]
    },
    {
     "name": "stderr",
     "output_type": "stream",
     "text": [
      "epoch:  82%|████████████████████████████████████████████████████████████▋             | 82/100 [14:06<03:06, 10.34s/it]"
     ]
    },
    {
     "name": "stdout",
     "output_type": "stream",
     "text": [
      "\n",
      "Epoch 082 train_loss: 160.1475\n"
     ]
    },
    {
     "name": "stderr",
     "output_type": "stream",
     "text": [
      "epoch:  83%|█████████████████████████████████████████████████████████████▍            | 83/100 [14:17<02:55, 10.34s/it]"
     ]
    },
    {
     "name": "stdout",
     "output_type": "stream",
     "text": [
      "\n",
      "Epoch 083 train_loss: 193.7471\n"
     ]
    },
    {
     "name": "stderr",
     "output_type": "stream",
     "text": [
      "epoch:  84%|██████████████████████████████████████████████████████████████▏           | 84/100 [14:27<02:45, 10.33s/it]"
     ]
    },
    {
     "name": "stdout",
     "output_type": "stream",
     "text": [
      "\n",
      "Epoch 084 train_loss: 159.9263\n"
     ]
    },
    {
     "name": "stderr",
     "output_type": "stream",
     "text": [
      "epoch:  85%|██████████████████████████████████████████████████████████████▉           | 85/100 [14:37<02:34, 10.33s/it]"
     ]
    },
    {
     "name": "stdout",
     "output_type": "stream",
     "text": [
      "\n",
      "Epoch 085 train_loss: 159.8260\n"
     ]
    },
    {
     "name": "stderr",
     "output_type": "stream",
     "text": [
      "epoch:  86%|███████████████████████████████████████████████████████████████▋          | 86/100 [14:47<02:24, 10.31s/it]"
     ]
    },
    {
     "name": "stdout",
     "output_type": "stream",
     "text": [
      "\n",
      "Epoch 086 train_loss: 184.4507\n"
     ]
    },
    {
     "name": "stderr",
     "output_type": "stream",
     "text": [
      "epoch:  87%|████████████████████████████████████████████████████████████████▍         | 87/100 [14:58<02:14, 10.32s/it]"
     ]
    },
    {
     "name": "stdout",
     "output_type": "stream",
     "text": [
      "\n",
      "Epoch 087 train_loss: 159.7932\n"
     ]
    },
    {
     "name": "stderr",
     "output_type": "stream",
     "text": [
      "epoch:  88%|█████████████████████████████████████████████████████████████████         | 88/100 [15:08<02:03, 10.33s/it]"
     ]
    },
    {
     "name": "stdout",
     "output_type": "stream",
     "text": [
      "\n",
      "Epoch 088 train_loss: 159.8771\n"
     ]
    },
    {
     "name": "stderr",
     "output_type": "stream",
     "text": [
      "epoch:  89%|█████████████████████████████████████████████████████████████████▊        | 89/100 [15:18<01:53, 10.31s/it]"
     ]
    },
    {
     "name": "stdout",
     "output_type": "stream",
     "text": [
      "\n",
      "Epoch 089 train_loss: 159.7486\n"
     ]
    },
    {
     "name": "stderr",
     "output_type": "stream",
     "text": [
      "epoch:  90%|██████████████████████████████████████████████████████████████████▌       | 90/100 [15:29<01:42, 10.30s/it]"
     ]
    },
    {
     "name": "stdout",
     "output_type": "stream",
     "text": [
      "\n",
      "Epoch 090 train_loss: 171.2651\n"
     ]
    },
    {
     "name": "stderr",
     "output_type": "stream",
     "text": [
      "epoch:  91%|███████████████████████████████████████████████████████████████████▎      | 91/100 [15:39<01:32, 10.29s/it]"
     ]
    },
    {
     "name": "stdout",
     "output_type": "stream",
     "text": [
      "\n",
      "Epoch 091 train_loss: 159.7973\n"
     ]
    },
    {
     "name": "stderr",
     "output_type": "stream",
     "text": [
      "epoch:  92%|████████████████████████████████████████████████████████████████████      | 92/100 [15:49<01:22, 10.30s/it]"
     ]
    },
    {
     "name": "stdout",
     "output_type": "stream",
     "text": [
      "\n",
      "Epoch 092 train_loss: 159.7769\n"
     ]
    },
    {
     "name": "stderr",
     "output_type": "stream",
     "text": [
      "epoch:  93%|████████████████████████████████████████████████████████████████████▊     | 93/100 [16:00<01:12, 10.31s/it]"
     ]
    },
    {
     "name": "stdout",
     "output_type": "stream",
     "text": [
      "\n",
      "Epoch 093 train_loss: 159.7453\n"
     ]
    },
    {
     "name": "stderr",
     "output_type": "stream",
     "text": [
      "epoch:  94%|█████████████████████████████████████████████████████████████████████▌    | 94/100 [16:10<01:01, 10.29s/it]"
     ]
    },
    {
     "name": "stdout",
     "output_type": "stream",
     "text": [
      "\n",
      "Epoch 094 train_loss: 159.7377\n"
     ]
    },
    {
     "name": "stderr",
     "output_type": "stream",
     "text": [
      "epoch:  95%|██████████████████████████████████████████████████████████████████████▎   | 95/100 [16:20<00:51, 10.28s/it]"
     ]
    },
    {
     "name": "stdout",
     "output_type": "stream",
     "text": [
      "\n",
      "Epoch 095 train_loss: 202.1117\n"
     ]
    },
    {
     "name": "stderr",
     "output_type": "stream",
     "text": [
      "epoch:  96%|███████████████████████████████████████████████████████████████████████   | 96/100 [16:30<00:41, 10.29s/it]"
     ]
    },
    {
     "name": "stdout",
     "output_type": "stream",
     "text": [
      "\n",
      "Epoch 096 train_loss: 159.8792\n"
     ]
    },
    {
     "name": "stderr",
     "output_type": "stream",
     "text": [
      "epoch:  97%|███████████████████████████████████████████████████████████████████████▊  | 97/100 [16:41<00:30, 10.32s/it]"
     ]
    },
    {
     "name": "stdout",
     "output_type": "stream",
     "text": [
      "\n",
      "Epoch 097 train_loss: 159.8689\n"
     ]
    },
    {
     "name": "stderr",
     "output_type": "stream",
     "text": [
      "epoch:  98%|████████████████████████████████████████████████████████████████████████▌ | 98/100 [16:51<00:20, 10.32s/it]"
     ]
    },
    {
     "name": "stdout",
     "output_type": "stream",
     "text": [
      "\n",
      "Epoch 098 train_loss: 231.1546\n"
     ]
    },
    {
     "name": "stderr",
     "output_type": "stream",
     "text": [
      "epoch:  99%|█████████████████████████████████████████████████████████████████████████▎| 99/100 [17:02<00:10, 10.33s/it]"
     ]
    },
    {
     "name": "stdout",
     "output_type": "stream",
     "text": [
      "\n",
      "Epoch 099 train_loss: 160.1637\n"
     ]
    },
    {
     "name": "stderr",
     "output_type": "stream",
     "text": [
      "epoch: 100%|█████████████████████████████████████████████████████████████████████████| 100/100 [17:12<00:00, 10.32s/it]"
     ]
    },
    {
     "name": "stdout",
     "output_type": "stream",
     "text": [
      "\n",
      "Epoch 100 train_loss: 160.2779\n"
     ]
    },
    {
     "name": "stderr",
     "output_type": "stream",
     "text": [
      "\n"
     ]
    }
   ],
   "source": [
    "from tqdm import tqdm, tqdm_notebook\n",
    "\n",
    "losses = []  \n",
    "epochs = 100\n",
    "loss_fn = nn.MSELoss()\n",
    "log_template = \"\\nEpoch {ep:03d} train_loss: {t_loss:0.4f}\"\n",
    "optim = torch.optim.Adam(model.parameters(), lr=1e-3, betas=(0.9, 0.99))\n",
    "\n",
    "with tqdm(desc=\"epoch\", total=epochs) as pbar_outer:\n",
    "    for i in range(epochs):\n",
    "#         print(f\"{i} from {epochs}\")\n",
    "        for x_batch, y_batch in train_loader:\n",
    "            y_batch = y_batch.type(torch.FloatTensor).to(device)\n",
    "            x_batch = x_batch.view(x_batch.shape[0], -1).to(device)\n",
    "            y_pred = model(x_batch.float()).to(device)\n",
    "#             print(y_pred, y_batch)\n",
    "            loss = loss_fn(y_pred, y_batch)\n",
    "            losses.append(loss.item())\n",
    "            optim.zero_grad()\n",
    "            loss.backward()\n",
    "            optim.step()\n",
    "        pbar_outer.update(1)\n",
    "        tqdm.write(log_template.format(ep=i+1, t_loss=loss))\n",
    "    \n",
    "# plt.plot(losses)"
   ]
  },
  {
   "cell_type": "code",
   "execution_count": null,
   "id": "99aa9091",
   "metadata": {},
   "outputs": [],
   "source": [
    "losses[-1]"
   ]
  },
  {
   "cell_type": "code",
   "execution_count": 138,
   "id": "c41dfa7d",
   "metadata": {},
   "outputs": [],
   "source": [
    "data_val = np.array(data_to_test_df[(len(data_to_test)):])\n",
    "y_val = np.array(y[(len(data_to_test)):])"
   ]
  },
  {
   "cell_type": "code",
   "execution_count": 149,
   "id": "d57bccc5",
   "metadata": {},
   "outputs": [],
   "source": [
    "# data_to_test_test = np.arange(len(data_to_test)+120)\n",
    "dataset_test = data_utils.TensorDataset(torch.from_numpy(data_val.astype(float)), torch.from_numpy(y_val.astype(float)))\n",
    "test_loader = data_utils.DataLoader(dataset_test, shuffle=False, batch_size=1)"
   ]
  },
  {
   "cell_type": "code",
   "execution_count": 192,
   "id": "101c82e1",
   "metadata": {},
   "outputs": [],
   "source": [
    "preds = []\n",
    "with torch.no_grad():\n",
    "    for batch_idx, (X1, _) in enumerate(test_loader):\n",
    "        output1 = load_model(X1.type(torch.FloatTensor).view(x_batch.shape[0], -1).to(device))\n",
    "        \n",
    "        if output1.shape[0] == 1:\n",
    "            pred = output1.cpu().detach().numpy()[0]\n",
    "        else:\n",
    "            pred = output1.cpu().squeeze().detach().numpy()\n",
    "\n",
    "        preds.append(pred)\n",
    "\n",
    "preds = np.concatenate(preds)"
   ]
  },
  {
   "cell_type": "code",
   "execution_count": 193,
   "id": "e5e52ab4",
   "metadata": {
    "scrolled": true
   },
   "outputs": [
    {
     "name": "stdout",
     "output_type": "stream",
     "text": [
      "Mean absolute error: 4.487\n",
      "Mean squared error: 6.318\n",
      "R2 score: 0.989\n"
     ]
    }
   ],
   "source": [
    "from sklearn.metrics import mean_squared_error, r2_score\n",
    "\n",
    "print(f'Mean absolute error: {mean_absolute_error(y_val, preds):.3f}')\n",
    "print(f'Mean squared error: {mean_squared_error(y_val, preds, squared=False):.3f}')\n",
    "print(f'R2 score: {r2_score(y_val, preds):.3f}')"
   ]
  },
  {
   "cell_type": "code",
   "execution_count": 179,
   "id": "534615e0",
   "metadata": {},
   "outputs": [],
   "source": [
    "torch.save(model.state_dict(), '22_10_22_model')"
   ]
  },
  {
   "cell_type": "code",
   "execution_count": 189,
   "id": "6c9a7e8e",
   "metadata": {},
   "outputs": [],
   "source": [
    "load_model = get_model(in_features, nn_params).to(device)"
   ]
  },
  {
   "cell_type": "code",
   "execution_count": 190,
   "id": "c3a5a17c",
   "metadata": {},
   "outputs": [
    {
     "data": {
      "text/plain": [
       "<All keys matched successfully>"
      ]
     },
     "execution_count": 190,
     "metadata": {},
     "output_type": "execute_result"
    }
   ],
   "source": [
    "load_model.load_state_dict(torch.load('22_10_22_model'))"
   ]
  },
  {
   "cell_type": "code",
   "execution_count": 191,
   "id": "5fd5cf72",
   "metadata": {},
   "outputs": [
    {
     "data": {
      "text/plain": [
       "NN_dragon(\n",
       "  (features): Sequential(\n",
       "    (0): Linear(in_features=120, out_features=32, bias=True)\n",
       "    (1): BatchNorm1d(32, eps=1e-05, momentum=0.1, affine=False, track_running_stats=True)\n",
       "    (2): ReLU()\n",
       "    (3): Linear(in_features=32, out_features=64, bias=True)\n",
       "    (4): BatchNorm1d(64, eps=1e-05, momentum=0.1, affine=False, track_running_stats=True)\n",
       "    (5): ReLU()\n",
       "    (6): Linear(in_features=64, out_features=1, bias=True)\n",
       "  )\n",
       ")"
      ]
     },
     "execution_count": 191,
     "metadata": {},
     "output_type": "execute_result"
    }
   ],
   "source": [
    "load_model.eval()"
   ]
  },
  {
   "cell_type": "code",
   "execution_count": 201,
   "id": "526e5e70",
   "metadata": {},
   "outputs": [
    {
     "data": {
      "text/plain": [
       "Text(0.5, 1.0, 'AAAAA CHURKI ZAEBALI y_true')"
      ]
     },
     "execution_count": 201,
     "metadata": {},
     "output_type": "execute_result"
    },
    {
     "data": {
      "image/png": "[encoded data removed]",
      "text/plain": [
       "<Figure size 1500x300 with 1 Axes>"
      ]
     },
     "metadata": {},
     "output_type": "display_data"
    },
    {
     "data": {
      "image/png": "[encoded data removed]",
      "text/plain": [
       "<Figure size 1500x300 with 1 Axes>"
      ]
     },
     "metadata": {},
     "output_type": "display_data"
    }
   ],
   "source": [
    "import seaborn as sns\n",
    "import matplotlib.pyplot as plt\n",
    "\n",
    "plt.figure(figsize =(15, 3))\n",
    "sns.lineplot(data=preds)\n",
    "plt.title('AAAAA CHURKI ZAEBALI predict')\n",
    "\n",
    "plt.figure(figsize =(15, 3))\n",
    "sns.lineplot(data=y_val)\n",
    "plt.title('AAAAA CHURKI ZAEBALI y_true')"
   ]
  },
  {
   "cell_type": "code",
   "execution_count": 257,
   "id": "5388d908",
   "metadata": {},
   "outputs": [],
   "source": [
    "# pytorch model, second df row, forecast horizon\n",
    "def predict_step_by_step(model, row, days):\n",
    "    forecasting_for_days = []\n",
    "    new_arr_to_predict = row.to_numpy().tolist()\n",
    "    for i in range(days):\n",
    "        tensor_to_predict = torch.Tensor(new_arr_to_predict).type(torch.FloatTensor).to(device)\n",
    "        with torch.no_grad():\n",
    "            predict = model(tensor_to_predict).cpu().detach().numpy().tolist()[0][0]\n",
    "            forecasting_for_days.append(predict)\n",
    "            new_arr_to_predict = [new_arr_to_predict[0][:-1]]\n",
    "            new_arr_to_predict[0].insert(0, forecasting_for_days[-1])\n",
    "    \n",
    "    return forecasting_for_days\n",
    "\n",
    "\n",
    "#df on 120 cols of lags \n",
    "forecast = predict_step_by_step(model, data_to_test_df.tail(1), 120)\n",
    "#hochu lizat pizdu..."
   ]
  },
  {
   "cell_type": "code",
   "execution_count": 258,
   "id": "13fe993e",
   "metadata": {},
   "outputs": [],
   "source": [
    "def plot_results(actual_time_series, predicted_values, len_train_data, y_name = 'Parameter'):\n",
    "    plt.plot(np.arange(0, len(actual_time_series)), \n",
    "             actual_time_series, label = 'Actual values', c = 'green')\n",
    "    plt.plot(np.arange(len_train_data, len_train_data + len(predicted_values)), \n",
    "             predicted_values, label = 'Predicted', c = 'blue')\n",
    "    # Plot black line which divide our array into train and test\n",
    "    plt.plot([len_train_data, len_train_data],\n",
    "             [min(actual_time_series), max(actual_time_series)], c = 'black', linewidth = 1)\n",
    "    plt.ylabel(y_name, fontsize = 15)\n",
    "    plt.xlabel('Time index', fontsize = 15)\n",
    "    plt.legend(fontsize = 15, loc='upper left')\n",
    "    plt.grid()\n",
    "    plt.show()"
   ]
  },
  {
   "cell_type": "code",
   "execution_count": 260,
   "id": "d2204c7a",
   "metadata": {},
   "outputs": [
    {
     "data": {
      "image/png": "[encoded data removed]",
      "text/plain": [
       "<Figure size 1500x700 with 1 Axes>"
      ]
     },
     "metadata": {},
     "output_type": "display_data"
    }
   ],
   "source": [
    "plot_results(actual_time_series = train_with_lags[140000:]['LIQ_RATE'],\n",
    "             predicted_values = forecast, \n",
    "             len_train_data = len(train_with_lags[140000:]))"
   ]
  },
  {
   "cell_type": "code",
   "execution_count": null,
   "id": "3a43a6e3",
   "metadata": {},
   "outputs": [],
   "source": []
  }
 ],
 "metadata": {
  "kernelspec": {
   "display_name": "Python 3 (ipykernel)",
   "language": "python",
   "name": "python3"
  },
  "language_info": {
   "codemirror_mode": {
    "name": "ipython",
    "version": 3
   },
   "file_extension": ".py",
   "mimetype": "text/x-python",
   "name": "python",
   "nbconvert_exporter": "python",
   "pygments_lexer": "ipython3",
   "version": "3.9.7"
  }
 },
 "nbformat": 4,
 "nbformat_minor": 5
}
